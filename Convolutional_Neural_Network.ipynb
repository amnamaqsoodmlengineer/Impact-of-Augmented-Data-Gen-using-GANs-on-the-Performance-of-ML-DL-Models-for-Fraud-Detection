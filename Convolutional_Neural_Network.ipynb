{
 "cells": [
  {
   "cell_type": "code",
   "execution_count": 42,
   "metadata": {
    "id": "yEvL3cOPdMXe"
   },
   "outputs": [],
   "source": []
  },
  {
   "cell_type": "code",
   "execution_count": 43,
   "metadata": {
    "id": "__YLU7R72VRf"
   },
   "outputs": [],
   "source": [
    "from google.colab import files"
   ]
  },
  {
   "cell_type": "code",
   "execution_count": 44,
   "metadata": {
    "id": "SfAJV8PI2hTn"
   },
   "outputs": [],
   "source": [
    "import pandas as pd"
   ]
  },
  {
   "cell_type": "code",
   "execution_count": 45,
   "metadata": {
    "colab": {
     "base_uri": "https://localhost:8080/"
    },
    "id": "hLwW1zeKn-7q",
    "outputId": "f06cc068-9b73-4324-8231-073d1869c8b6"
   },
   "outputs": [
    {
     "name": "stdout",
     "output_type": "stream",
     "text": [
      "Drive already mounted at /content/drive; to attempt to forcibly remount, call drive.mount(\"/content/drive\", force_remount=True).\n"
     ]
    }
   ],
   "source": [
    "from google.colab import drive\n",
    "drive.mount('/content/drive')"
   ]
  },
  {
   "cell_type": "code",
   "execution_count": 46,
   "metadata": {
    "id": "Bl9JmhYg2mfQ"
   },
   "outputs": [],
   "source": [
    "df = pd.read_excel (\"/content/drive/MyDrive/MLAssignment/Insurance_Updated.xlsx\")"
   ]
  },
  {
   "cell_type": "markdown",
   "metadata": {
    "id": "2HVEacjun6M-"
   },
   "source": [
    "**Summarize Data**"
   ]
  },
  {
   "cell_type": "code",
   "execution_count": 47,
   "metadata": {
    "colab": {
     "base_uri": "https://localhost:8080/"
    },
    "id": "Oy5zwVq13CRZ",
    "outputId": "9269dff8-4ffa-42a7-ae98-6b164197d110"
   },
   "outputs": [
    {
     "name": "stdout",
     "output_type": "stream",
     "text": [
      "<class 'pandas.core.frame.DataFrame'>\n",
      "RangeIndex: 1000 entries, 0 to 999\n",
      "Data columns (total 40 columns):\n",
      " #   Column                       Non-Null Count  Dtype  \n",
      "---  ------                       --------------  -----  \n",
      " 0   months_as_customer           1000 non-null   int64  \n",
      " 1   age                          1000 non-null   int64  \n",
      " 2   policy_number                1000 non-null   int64  \n",
      " 3   policy_bind_days             1000 non-null   int64  \n",
      " 4   policy_state                 1000 non-null   object \n",
      " 5   policy_csl                   1000 non-null   object \n",
      " 6   policy_deductable            1000 non-null   int64  \n",
      " 7   policy_annual_premium        1000 non-null   float64\n",
      " 8   umbrella_limit               1000 non-null   int64  \n",
      " 9   insured_zip                  1000 non-null   int64  \n",
      " 10  insured_sex                  1000 non-null   object \n",
      " 11  insured_education_level      1000 non-null   object \n",
      " 12  insured_occupation           1000 non-null   object \n",
      " 13  insured_hobbies              1000 non-null   object \n",
      " 14  insured_relationship         1000 non-null   object \n",
      " 15  capital-gains                1000 non-null   int64  \n",
      " 16  capital-loss                 1000 non-null   int64  \n",
      " 17  incident_days                1000 non-null   int64  \n",
      " 18  incident_type                1000 non-null   object \n",
      " 19  collision_type               1000 non-null   object \n",
      " 20  incident_severity            1000 non-null   object \n",
      " 21  authorities_contacted        909 non-null    object \n",
      " 22  incident_state               1000 non-null   object \n",
      " 23  incident_city                1000 non-null   object \n",
      " 24  incident_location            1000 non-null   object \n",
      " 25  incident_hour_of_the_day     1000 non-null   int64  \n",
      " 26  number_of_vehicles_involved  1000 non-null   int64  \n",
      " 27  property_damage              1000 non-null   object \n",
      " 28  bodily_injuries              1000 non-null   int64  \n",
      " 29  witnesses                    1000 non-null   int64  \n",
      " 30  police_report_available      1000 non-null   object \n",
      " 31  total_claim_amount           1000 non-null   int64  \n",
      " 32  injury_claim                 1000 non-null   int64  \n",
      " 33  property_claim               1000 non-null   int64  \n",
      " 34  vehicle_claim                1000 non-null   int64  \n",
      " 35  auto_make                    1000 non-null   object \n",
      " 36  auto_model                   1000 non-null   object \n",
      " 37  auto_year                    1000 non-null   int64  \n",
      " 38  fraud_reported               1000 non-null   object \n",
      " 39  _c39                         0 non-null      float64\n",
      "dtypes: float64(2), int64(19), object(19)\n",
      "memory usage: 312.6+ KB\n"
     ]
    }
   ],
   "source": [
    "df.info()"
   ]
  },
  {
   "cell_type": "code",
   "execution_count": 48,
   "metadata": {
    "id": "caeDlWEX8jHH"
   },
   "outputs": [],
   "source": [
    "# List of features to drop\n",
    "features_to_drop = [\n",
    "    'policy_state',\n",
    "    'policy_csl',\n",
    "    'insured_sex',\n",
    "    'insured_education_level',\n",
    "    'insured_occupation',\n",
    "    'insured_hobbies',\n",
    "    'insured_relationship',\n",
    "    'incident_type',\n",
    "    'collision_type',\n",
    "    'incident_severity',\n",
    "    'authorities_contacted',\n",
    "    'incident_state',\n",
    "    'incident_city',\n",
    "    'incident_location',\n",
    "    'property_damage',\n",
    "    'police_report_available',\n",
    "    'auto_make',\n",
    "    'auto_model',\n",
    "    '_c39'\n",
    "]\n",
    "\n",
    "# Drop the specified features from the dataframe\n",
    "df.drop(columns=features_to_drop, inplace=True)\n",
    "\n",
    "# Now df contains the dataset with the specified features dropped"
   ]
  },
  {
   "cell_type": "code",
   "execution_count": 49,
   "metadata": {
    "id": "E6huXicPASYX"
   },
   "outputs": [],
   "source": [
    "# df.info()"
   ]
  },
  {
   "cell_type": "code",
   "execution_count": 50,
   "metadata": {
    "id": "_wVCC963xGhQ"
   },
   "outputs": [],
   "source": [
    "# df = pd.get_dummies(df, columns=['fraud_reported'])"
   ]
  },
  {
   "cell_type": "code",
   "execution_count": 51,
   "metadata": {
    "id": "64md3ame2jfZ"
   },
   "outputs": [],
   "source": [
    "# num_attributes = df.shape[1] - 1\n",
    "# print(\"Number of attributes:\", num_attributes)\n"
   ]
  },
  {
   "cell_type": "code",
   "execution_count": 52,
   "metadata": {
    "id": "BW1xoZEEA34D"
   },
   "outputs": [],
   "source": [
    "# Encoding fraud_reported(dependent variable column)\n",
    "from sklearn import preprocessing\n",
    "le = preprocessing.LabelEncoder()\n",
    "le.fit(df.fraud_reported)\n",
    "df['fraud_reported'] = le.transform(df.fraud_reported)"
   ]
  },
  {
   "cell_type": "code",
   "execution_count": 53,
   "metadata": {
    "colab": {
     "base_uri": "https://localhost:8080/"
    },
    "id": "G7aYPNN-0L2V",
    "outputId": "86009476-e0c0-46d2-aa2d-0cd8643f38a2"
   },
   "outputs": [
    {
     "name": "stdout",
     "output_type": "stream",
     "text": [
      "<class 'pandas.core.frame.DataFrame'>\n",
      "RangeIndex: 1000 entries, 0 to 999\n",
      "Data columns (total 21 columns):\n",
      " #   Column                       Non-Null Count  Dtype  \n",
      "---  ------                       --------------  -----  \n",
      " 0   months_as_customer           1000 non-null   int64  \n",
      " 1   age                          1000 non-null   int64  \n",
      " 2   policy_number                1000 non-null   int64  \n",
      " 3   policy_bind_days             1000 non-null   int64  \n",
      " 4   policy_deductable            1000 non-null   int64  \n",
      " 5   policy_annual_premium        1000 non-null   float64\n",
      " 6   umbrella_limit               1000 non-null   int64  \n",
      " 7   insured_zip                  1000 non-null   int64  \n",
      " 8   capital-gains                1000 non-null   int64  \n",
      " 9   capital-loss                 1000 non-null   int64  \n",
      " 10  incident_days                1000 non-null   int64  \n",
      " 11  incident_hour_of_the_day     1000 non-null   int64  \n",
      " 12  number_of_vehicles_involved  1000 non-null   int64  \n",
      " 13  bodily_injuries              1000 non-null   int64  \n",
      " 14  witnesses                    1000 non-null   int64  \n",
      " 15  total_claim_amount           1000 non-null   int64  \n",
      " 16  injury_claim                 1000 non-null   int64  \n",
      " 17  property_claim               1000 non-null   int64  \n",
      " 18  vehicle_claim                1000 non-null   int64  \n",
      " 19  auto_year                    1000 non-null   int64  \n",
      " 20  fraud_reported               1000 non-null   int64  \n",
      "dtypes: float64(1), int64(20)\n",
      "memory usage: 164.2 KB\n"
     ]
    }
   ],
   "source": [
    "df.info()"
   ]
  },
  {
   "cell_type": "code",
   "execution_count": 54,
   "metadata": {
    "id": "HygcT7_lXwp4"
   },
   "outputs": [],
   "source": [
    "# import pandas as pd\n",
    "# from sklearn.model_selection import train_test_split\n",
    "# from sklearn.ensemble import RandomForestClassifier\n",
    "\n",
    "\n",
    "# # Selecting features and target from the DataFrame\n",
    "# selected_features = ['months_as_customer', 'age', 'policy_number', 'policy_bind_days',\n",
    "#                      'policy_deductable', 'policy_annual_premium', 'umbrella_limit',\n",
    "#                      'insured_zip', 'capital-gains', 'capital-loss', 'incident_days',\n",
    "#                      'incident_hour_of_the_day', 'number_of_vehicles_involved',\n",
    "#                      'total_claim_amount', 'injury_claim', 'property_claim', 'vehicle_claim',\n",
    "#                      'auto_year', 'fraud_reported']  # Remaining variables\n",
    "\n",
    "# X = df[selected_features]\n",
    "# y = df['fraud_reported']  # Assuming 'fraud_reported' is the target column\n",
    "\n",
    "# # Splitting the data into training and testing sets\n",
    "# X_train, X_test, y_train, y_test = train_test_split(X, y,  random_state=42)\n",
    "\n",
    "# # Fitting a random forest classifier\n",
    "# forest = RandomForestClassifier(random_state=0)\n",
    "# forest.fit(X_train, y_train)\n",
    "\n",
    "# # Computing feature importances\n",
    "# feature_importances = pd.Series(forest.feature_importances_, index=X.columns)\n",
    "\n",
    "# # Sorting feature importances in descending order\n",
    "# feature_importances_sorted = feature_importances.sort_values(ascending=False)\n",
    "\n",
    "# # Printing feature importances\n",
    "# print(\"Feature importances:\")\n",
    "# print(feature_importances_sorted)\n"
   ]
  },
  {
   "cell_type": "code",
   "execution_count": 55,
   "metadata": {
    "id": "G0TCbVFRVnAr"
   },
   "outputs": [],
   "source": [
    "# List of features to drop based as they have less feature importance\n",
    "features_to_drop = ['umbrella_limit', 'number_of_vehicles_involved', 'policy_deductable']\n",
    "\n",
    "# Drop specified features from the DataFrame\n",
    "df.drop(columns=features_to_drop, inplace=True)"
   ]
  },
  {
   "cell_type": "code",
   "execution_count": 56,
   "metadata": {
    "colab": {
     "base_uri": "https://localhost:8080/"
    },
    "id": "xSIR4sfp3SBo",
    "outputId": "c1ab9dba-11f2-4869-e901-a9bf778e4591"
   },
   "outputs": [
    {
     "name": "stdout",
     "output_type": "stream",
     "text": [
      "<class 'pandas.core.frame.DataFrame'>\n",
      "RangeIndex: 1000 entries, 0 to 999\n",
      "Data columns (total 18 columns):\n",
      " #   Column                    Non-Null Count  Dtype  \n",
      "---  ------                    --------------  -----  \n",
      " 0   months_as_customer        1000 non-null   int64  \n",
      " 1   age                       1000 non-null   int64  \n",
      " 2   policy_number             1000 non-null   int64  \n",
      " 3   policy_bind_days          1000 non-null   int64  \n",
      " 4   policy_annual_premium     1000 non-null   float64\n",
      " 5   insured_zip               1000 non-null   int64  \n",
      " 6   capital-gains             1000 non-null   int64  \n",
      " 7   capital-loss              1000 non-null   int64  \n",
      " 8   incident_days             1000 non-null   int64  \n",
      " 9   incident_hour_of_the_day  1000 non-null   int64  \n",
      " 10  bodily_injuries           1000 non-null   int64  \n",
      " 11  witnesses                 1000 non-null   int64  \n",
      " 12  total_claim_amount        1000 non-null   int64  \n",
      " 13  injury_claim              1000 non-null   int64  \n",
      " 14  property_claim            1000 non-null   int64  \n",
      " 15  vehicle_claim             1000 non-null   int64  \n",
      " 16  auto_year                 1000 non-null   int64  \n",
      " 17  fraud_reported            1000 non-null   int64  \n",
      "dtypes: float64(1), int64(17)\n",
      "memory usage: 140.8 KB\n"
     ]
    }
   ],
   "source": [
    "df.info()"
   ]
  },
  {
   "cell_type": "code",
   "execution_count": 57,
   "metadata": {
    "id": "T8wlLYRLe2qd"
   },
   "outputs": [],
   "source": [
    "# from scipy import stats\n",
    "\n",
    "# # Assume df is your DataFrame\n",
    "\n",
    "# # Calculate Z-score for each data point\n",
    "# z_scores = stats.zscore(df)\n",
    "\n",
    "# # Define threshold for outliers\n",
    "# threshold = 3  # Can be adjusted based on the level of sensitivity desired\n",
    "\n",
    "# # Find outliers\n",
    "# outliers = df[(z_scores > threshold).any(axis=1)]\n"
   ]
  },
  {
   "cell_type": "code",
   "execution_count": 58,
   "metadata": {
    "id": "OTS7ONpZgxlS"
   },
   "outputs": [],
   "source": [
    "# print(\"Outliers detected using Z-score method:\")\n",
    "# print(outliers)\n"
   ]
  },
  {
   "cell_type": "code",
   "execution_count": 59,
   "metadata": {
    "id": "R7x5hfqZicjd"
   },
   "outputs": [],
   "source": [
    "# df = df[(z_scores <= threshold).all(axis=1)]\n",
    "#remove outliers"
   ]
  },
  {
   "cell_type": "code",
   "execution_count": 60,
   "metadata": {
    "id": "IxlBWvDwjST-"
   },
   "outputs": [],
   "source": [
    "from sklearn.utils import resample\n",
    "\n",
    "# Separate majority and minority classes\n",
    "df_majority = df[df.fraud_reported == 0]\n",
    "df_minority = df[df.fraud_reported == 1]\n",
    "\n",
    "# Upsample minority class\n",
    "df_minority_upsampled = resample(df_minority,\n",
    "                                 replace=True,     # sample with replacement\n",
    "                                 n_samples=len(df_majority),    # to match majority class\n",
    "                                 random_state=1234) # for reproducible results\n",
    "\n",
    "# Combine majority class with upsampled minority class\n",
    "df_upsampled = pd.concat([df_majority, df_minority_upsampled])\n",
    "\n",
    "# Display new class counts\n",
    "df_upsampled.fraud_reported.value_counts()\n",
    "df = df_upsampled"
   ]
  },
  {
   "cell_type": "code",
   "execution_count": 61,
   "metadata": {
    "colab": {
     "base_uri": "https://localhost:8080/"
    },
    "id": "XKGqYQ4XFgRc",
    "outputId": "46e7f5ab-09a9-4d70-f805-d7778e8b49d3"
   },
   "outputs": [
    {
     "name": "stdout",
     "output_type": "stream",
     "text": [
      "<class 'pandas.core.frame.DataFrame'>\n",
      "Index: 1506 entries, 2 to 39\n",
      "Data columns (total 18 columns):\n",
      " #   Column                    Non-Null Count  Dtype  \n",
      "---  ------                    --------------  -----  \n",
      " 0   months_as_customer        1506 non-null   int64  \n",
      " 1   age                       1506 non-null   int64  \n",
      " 2   policy_number             1506 non-null   int64  \n",
      " 3   policy_bind_days          1506 non-null   int64  \n",
      " 4   policy_annual_premium     1506 non-null   float64\n",
      " 5   insured_zip               1506 non-null   int64  \n",
      " 6   capital-gains             1506 non-null   int64  \n",
      " 7   capital-loss              1506 non-null   int64  \n",
      " 8   incident_days             1506 non-null   int64  \n",
      " 9   incident_hour_of_the_day  1506 non-null   int64  \n",
      " 10  bodily_injuries           1506 non-null   int64  \n",
      " 11  witnesses                 1506 non-null   int64  \n",
      " 12  total_claim_amount        1506 non-null   int64  \n",
      " 13  injury_claim              1506 non-null   int64  \n",
      " 14  property_claim            1506 non-null   int64  \n",
      " 15  vehicle_claim             1506 non-null   int64  \n",
      " 16  auto_year                 1506 non-null   int64  \n",
      " 17  fraud_reported            1506 non-null   int64  \n",
      "dtypes: float64(1), int64(17)\n",
      "memory usage: 223.5 KB\n"
     ]
    }
   ],
   "source": [
    "#df after removing outliers\n",
    "df.info()"
   ]
  },
  {
   "cell_type": "code",
   "execution_count": 62,
   "metadata": {
    "colab": {
     "base_uri": "https://localhost:8080/"
    },
    "id": "u88P9fpHIxYz",
    "outputId": "ef81ecbc-28c9-4a0a-de64-f29e01aaed20"
   },
   "outputs": [
    {
     "name": "stderr",
     "output_type": "stream",
     "text": [
      "/usr/local/lib/python3.10/dist-packages/keras/src/layers/convolutional/base_conv.py:107: UserWarning: Do not pass an `input_shape`/`input_dim` argument to a layer. When using Sequential models, prefer using an `Input(shape)` object as the first layer in the model instead.\n",
      "  super().__init__(activity_regularizer=activity_regularizer, **kwargs)\n"
     ]
    },
    {
     "name": "stdout",
     "output_type": "stream",
     "text": [
      "Epoch 1/50\n",
      "\u001b[1m31/31\u001b[0m \u001b[32m━━━━━━━━━━━━━━━━━━━━\u001b[0m\u001b[37m\u001b[0m \u001b[1m2s\u001b[0m 11ms/step - accuracy: 0.4872 - loss: 0.7061 - val_accuracy: 0.5270 - val_loss: 0.6872\n",
      "Epoch 2/50\n",
      "\u001b[1m31/31\u001b[0m \u001b[32m━━━━━━━━━━━━━━━━━━━━\u001b[0m\u001b[37m\u001b[0m \u001b[1m0s\u001b[0m 5ms/step - accuracy: 0.5478 - loss: 0.6818 - val_accuracy: 0.5602 - val_loss: 0.6798\n",
      "Epoch 3/50\n",
      "\u001b[1m31/31\u001b[0m \u001b[32m━━━━━━━━━━━━━━━━━━━━\u001b[0m\u001b[37m\u001b[0m \u001b[1m0s\u001b[0m 4ms/step - accuracy: 0.5860 - loss: 0.6680 - val_accuracy: 0.5685 - val_loss: 0.6806\n",
      "Epoch 4/50\n",
      "\u001b[1m31/31\u001b[0m \u001b[32m━━━━━━━━━━━━━━━━━━━━\u001b[0m\u001b[37m\u001b[0m \u001b[1m0s\u001b[0m 5ms/step - accuracy: 0.6207 - loss: 0.6564 - val_accuracy: 0.5768 - val_loss: 0.6698\n",
      "Epoch 5/50\n",
      "\u001b[1m31/31\u001b[0m \u001b[32m━━━━━━━━━━━━━━━━━━━━\u001b[0m\u001b[37m\u001b[0m \u001b[1m0s\u001b[0m 4ms/step - accuracy: 0.6662 - loss: 0.6310 - val_accuracy: 0.5975 - val_loss: 0.6693\n",
      "Epoch 6/50\n",
      "\u001b[1m31/31\u001b[0m \u001b[32m━━━━━━━━━━━━━━━━━━━━\u001b[0m\u001b[37m\u001b[0m \u001b[1m0s\u001b[0m 4ms/step - accuracy: 0.6480 - loss: 0.6331 - val_accuracy: 0.6017 - val_loss: 0.6635\n",
      "Epoch 7/50\n",
      "\u001b[1m31/31\u001b[0m \u001b[32m━━━━━━━━━━━━━━━━━━━━\u001b[0m\u001b[37m\u001b[0m \u001b[1m0s\u001b[0m 4ms/step - accuracy: 0.6718 - loss: 0.6088 - val_accuracy: 0.6017 - val_loss: 0.6654\n",
      "Epoch 8/50\n",
      "\u001b[1m31/31\u001b[0m \u001b[32m━━━━━━━━━━━━━━━━━━━━\u001b[0m\u001b[37m\u001b[0m \u001b[1m0s\u001b[0m 5ms/step - accuracy: 0.6467 - loss: 0.6213 - val_accuracy: 0.6266 - val_loss: 0.6628\n",
      "Epoch 9/50\n",
      "\u001b[1m31/31\u001b[0m \u001b[32m━━━━━━━━━━━━━━━━━━━━\u001b[0m\u001b[37m\u001b[0m \u001b[1m0s\u001b[0m 4ms/step - accuracy: 0.6804 - loss: 0.5989 - val_accuracy: 0.6432 - val_loss: 0.6534\n",
      "Epoch 10/50\n",
      "\u001b[1m31/31\u001b[0m \u001b[32m━━━━━━━━━━━━━━━━━━━━\u001b[0m\u001b[37m\u001b[0m \u001b[1m0s\u001b[0m 4ms/step - accuracy: 0.6905 - loss: 0.5938 - val_accuracy: 0.6390 - val_loss: 0.6527\n",
      "Epoch 11/50\n",
      "\u001b[1m31/31\u001b[0m \u001b[32m━━━━━━━━━━━━━━━━━━━━\u001b[0m\u001b[37m\u001b[0m \u001b[1m0s\u001b[0m 5ms/step - accuracy: 0.7158 - loss: 0.5795 - val_accuracy: 0.6390 - val_loss: 0.6532\n",
      "Epoch 12/50\n",
      "\u001b[1m31/31\u001b[0m \u001b[32m━━━━━━━━━━━━━━━━━━━━\u001b[0m\u001b[37m\u001b[0m \u001b[1m0s\u001b[0m 4ms/step - accuracy: 0.7209 - loss: 0.5734 - val_accuracy: 0.6224 - val_loss: 0.6578\n",
      "Epoch 13/50\n",
      "\u001b[1m31/31\u001b[0m \u001b[32m━━━━━━━━━━━━━━━━━━━━\u001b[0m\u001b[37m\u001b[0m \u001b[1m0s\u001b[0m 4ms/step - accuracy: 0.7543 - loss: 0.5408 - val_accuracy: 0.6515 - val_loss: 0.6543\n",
      "Epoch 14/50\n",
      "\u001b[1m31/31\u001b[0m \u001b[32m━━━━━━━━━━━━━━━━━━━━\u001b[0m\u001b[37m\u001b[0m \u001b[1m0s\u001b[0m 4ms/step - accuracy: 0.7432 - loss: 0.5508 - val_accuracy: 0.6141 - val_loss: 0.6481\n",
      "Epoch 15/50\n",
      "\u001b[1m31/31\u001b[0m \u001b[32m━━━━━━━━━━━━━━━━━━━━\u001b[0m\u001b[37m\u001b[0m \u001b[1m0s\u001b[0m 4ms/step - accuracy: 0.7336 - loss: 0.5316 - val_accuracy: 0.6515 - val_loss: 0.6403\n",
      "Epoch 16/50\n",
      "\u001b[1m31/31\u001b[0m \u001b[32m━━━━━━━━━━━━━━━━━━━━\u001b[0m\u001b[37m\u001b[0m \u001b[1m0s\u001b[0m 4ms/step - accuracy: 0.7477 - loss: 0.5088 - val_accuracy: 0.6556 - val_loss: 0.6497\n",
      "Epoch 17/50\n",
      "\u001b[1m31/31\u001b[0m \u001b[32m━━━━━━━━━━━━━━━━━━━━\u001b[0m\u001b[37m\u001b[0m \u001b[1m0s\u001b[0m 4ms/step - accuracy: 0.7394 - loss: 0.5190 - val_accuracy: 0.6390 - val_loss: 0.6393\n",
      "Epoch 18/50\n",
      "\u001b[1m31/31\u001b[0m \u001b[32m━━━━━━━━━━━━━━━━━━━━\u001b[0m\u001b[37m\u001b[0m \u001b[1m0s\u001b[0m 5ms/step - accuracy: 0.7670 - loss: 0.5083 - val_accuracy: 0.6473 - val_loss: 0.6510\n",
      "Epoch 19/50\n",
      "\u001b[1m31/31\u001b[0m \u001b[32m━━━━━━━━━━━━━━━━━━━━\u001b[0m\u001b[37m\u001b[0m \u001b[1m0s\u001b[0m 4ms/step - accuracy: 0.7683 - loss: 0.5073 - val_accuracy: 0.7054 - val_loss: 0.6434\n",
      "Epoch 20/50\n",
      "\u001b[1m31/31\u001b[0m \u001b[32m━━━━━━━━━━━━━━━━━━━━\u001b[0m\u001b[37m\u001b[0m \u001b[1m0s\u001b[0m 4ms/step - accuracy: 0.8340 - loss: 0.4504 - val_accuracy: 0.6349 - val_loss: 0.6902\n",
      "Epoch 21/50\n",
      "\u001b[1m31/31\u001b[0m \u001b[32m━━━━━━━━━━━━━━━━━━━━\u001b[0m\u001b[37m\u001b[0m \u001b[1m0s\u001b[0m 4ms/step - accuracy: 0.7866 - loss: 0.4627 - val_accuracy: 0.6971 - val_loss: 0.6301\n",
      "Epoch 22/50\n",
      "\u001b[1m31/31\u001b[0m \u001b[32m━━━━━━━━━━━━━━━━━━━━\u001b[0m\u001b[37m\u001b[0m \u001b[1m0s\u001b[0m 5ms/step - accuracy: 0.8120 - loss: 0.4324 - val_accuracy: 0.7137 - val_loss: 0.6360\n",
      "Epoch 23/50\n",
      "\u001b[1m31/31\u001b[0m \u001b[32m━━━━━━━━━━━━━━━━━━━━\u001b[0m\u001b[37m\u001b[0m \u001b[1m0s\u001b[0m 5ms/step - accuracy: 0.8259 - loss: 0.4304 - val_accuracy: 0.6639 - val_loss: 0.6232\n",
      "Epoch 24/50\n",
      "\u001b[1m31/31\u001b[0m \u001b[32m━━━━━━━━━━━━━━━━━━━━\u001b[0m\u001b[37m\u001b[0m \u001b[1m0s\u001b[0m 5ms/step - accuracy: 0.8166 - loss: 0.4245 - val_accuracy: 0.7344 - val_loss: 0.6318\n",
      "Epoch 25/50\n",
      "\u001b[1m31/31\u001b[0m \u001b[32m━━━━━━━━━━━━━━━━━━━━\u001b[0m\u001b[37m\u001b[0m \u001b[1m0s\u001b[0m 4ms/step - accuracy: 0.8411 - loss: 0.4124 - val_accuracy: 0.6805 - val_loss: 0.6326\n",
      "Epoch 26/50\n",
      "\u001b[1m31/31\u001b[0m \u001b[32m━━━━━━━━━━━━━━━━━━━━\u001b[0m\u001b[37m\u001b[0m \u001b[1m0s\u001b[0m 4ms/step - accuracy: 0.8255 - loss: 0.3891 - val_accuracy: 0.7386 - val_loss: 0.6042\n",
      "Epoch 27/50\n",
      "\u001b[1m31/31\u001b[0m \u001b[32m━━━━━━━━━━━━━━━━━━━━\u001b[0m\u001b[37m\u001b[0m \u001b[1m0s\u001b[0m 5ms/step - accuracy: 0.8351 - loss: 0.3826 - val_accuracy: 0.7054 - val_loss: 0.6241\n",
      "Epoch 28/50\n",
      "\u001b[1m31/31\u001b[0m \u001b[32m━━━━━━━━━━━━━━━━━━━━\u001b[0m\u001b[37m\u001b[0m \u001b[1m0s\u001b[0m 4ms/step - accuracy: 0.8449 - loss: 0.3872 - val_accuracy: 0.7469 - val_loss: 0.6241\n",
      "Epoch 29/50\n",
      "\u001b[1m31/31\u001b[0m \u001b[32m━━━━━━━━━━━━━━━━━━━━\u001b[0m\u001b[37m\u001b[0m \u001b[1m0s\u001b[0m 4ms/step - accuracy: 0.8495 - loss: 0.3491 - val_accuracy: 0.7510 - val_loss: 0.6190\n",
      "Epoch 30/50\n",
      "\u001b[1m31/31\u001b[0m \u001b[32m━━━━━━━━━━━━━━━━━━━━\u001b[0m\u001b[37m\u001b[0m \u001b[1m0s\u001b[0m 4ms/step - accuracy: 0.8405 - loss: 0.3782 - val_accuracy: 0.7220 - val_loss: 0.6017\n",
      "Epoch 31/50\n",
      "\u001b[1m31/31\u001b[0m \u001b[32m━━━━━━━━━━━━━━━━━━━━\u001b[0m\u001b[37m\u001b[0m \u001b[1m0s\u001b[0m 5ms/step - accuracy: 0.8646 - loss: 0.3235 - val_accuracy: 0.7095 - val_loss: 0.6637\n",
      "Epoch 32/50\n",
      "\u001b[1m31/31\u001b[0m \u001b[32m━━━━━━━━━━━━━━━━━━━━\u001b[0m\u001b[37m\u001b[0m \u001b[1m0s\u001b[0m 4ms/step - accuracy: 0.8589 - loss: 0.3289 - val_accuracy: 0.7676 - val_loss: 0.6143\n",
      "Epoch 33/50\n",
      "\u001b[1m31/31\u001b[0m \u001b[32m━━━━━━━━━━━━━━━━━━━━\u001b[0m\u001b[37m\u001b[0m \u001b[1m0s\u001b[0m 4ms/step - accuracy: 0.8682 - loss: 0.3266 - val_accuracy: 0.7676 - val_loss: 0.6224\n",
      "Epoch 34/50\n",
      "\u001b[1m31/31\u001b[0m \u001b[32m━━━━━━━━━━━━━━━━━━━━\u001b[0m\u001b[37m\u001b[0m \u001b[1m0s\u001b[0m 4ms/step - accuracy: 0.8498 - loss: 0.3165 - val_accuracy: 0.7718 - val_loss: 0.5953\n",
      "Epoch 35/50\n",
      "\u001b[1m31/31\u001b[0m \u001b[32m━━━━━━━━━━━━━━━━━━━━\u001b[0m\u001b[37m\u001b[0m \u001b[1m0s\u001b[0m 4ms/step - accuracy: 0.8921 - loss: 0.2853 - val_accuracy: 0.7552 - val_loss: 0.6184\n",
      "Epoch 36/50\n",
      "\u001b[1m31/31\u001b[0m \u001b[32m━━━━━━━━━━━━━━━━━━━━\u001b[0m\u001b[37m\u001b[0m \u001b[1m0s\u001b[0m 8ms/step - accuracy: 0.8945 - loss: 0.2911 - val_accuracy: 0.7510 - val_loss: 0.6522\n",
      "Epoch 37/50\n",
      "\u001b[1m31/31\u001b[0m \u001b[32m━━━━━━━━━━━━━━━━━━━━\u001b[0m\u001b[37m\u001b[0m \u001b[1m0s\u001b[0m 9ms/step - accuracy: 0.8897 - loss: 0.2965 - val_accuracy: 0.7842 - val_loss: 0.5919\n",
      "Epoch 38/50\n",
      "\u001b[1m31/31\u001b[0m \u001b[32m━━━━━━━━━━━━━━━━━━━━\u001b[0m\u001b[37m\u001b[0m \u001b[1m1s\u001b[0m 6ms/step - accuracy: 0.8902 - loss: 0.2731 - val_accuracy: 0.7303 - val_loss: 0.6717\n",
      "Epoch 39/50\n",
      "\u001b[1m31/31\u001b[0m \u001b[32m━━━━━━━━━━━━━━━━━━━━\u001b[0m\u001b[37m\u001b[0m \u001b[1m0s\u001b[0m 8ms/step - accuracy: 0.8970 - loss: 0.2674 - val_accuracy: 0.7967 - val_loss: 0.6137\n",
      "Epoch 40/50\n",
      "\u001b[1m31/31\u001b[0m \u001b[32m━━━━━━━━━━━━━━━━━━━━\u001b[0m\u001b[37m\u001b[0m \u001b[1m0s\u001b[0m 6ms/step - accuracy: 0.9152 - loss: 0.2411 - val_accuracy: 0.8050 - val_loss: 0.5933\n",
      "Epoch 41/50\n",
      "\u001b[1m31/31\u001b[0m \u001b[32m━━━━━━━━━━━━━━━━━━━━\u001b[0m\u001b[37m\u001b[0m \u001b[1m0s\u001b[0m 6ms/step - accuracy: 0.9308 - loss: 0.2181 - val_accuracy: 0.6971 - val_loss: 0.8077\n",
      "Epoch 42/50\n",
      "\u001b[1m31/31\u001b[0m \u001b[32m━━━━━━━━━━━━━━━━━━━━\u001b[0m\u001b[37m\u001b[0m \u001b[1m0s\u001b[0m 8ms/step - accuracy: 0.8885 - loss: 0.2776 - val_accuracy: 0.7884 - val_loss: 0.6422\n",
      "\u001b[1m10/10\u001b[0m \u001b[32m━━━━━━━━━━━━━━━━━━━━\u001b[0m\u001b[37m\u001b[0m \u001b[1m0s\u001b[0m 3ms/step - accuracy: 0.7483 - loss: 0.5617 \n",
      "Test Loss: 0.6077028512954712\n",
      "Test Accuracy: 0.7218543291091919\n"
     ]
    }
   ],
   "source": [
    "#CNN\n",
    "import numpy as np\n",
    "import pandas as pd\n",
    "from sklearn.model_selection import train_test_split\n",
    "from sklearn.preprocessing import StandardScaler\n",
    "from tensorflow.keras.models import Sequential\n",
    "from tensorflow.keras.layers import Conv1D, MaxPooling1D, Flatten, Dense, Dropout\n",
    "from tensorflow.keras.optimizers import Adam\n",
    "from tensorflow.keras.callbacks import EarlyStopping\n",
    "\n",
    "# Load your dataset\n",
    "# df = pd.read_csv(\"your_dataset.csv\")  # Assuming your dataset is in a CSV file\n",
    "\n",
    "# Select features (X) and target variable (y)\n",
    "X = df.iloc[:,0:17]  # Features\n",
    "y = df.iloc[:,17]    # Labels\n",
    "\n",
    "# Split the dataset into training and testing sets\n",
    "X_train, X_test, y_train, y_test = train_test_split(X, y, test_size=0.2, random_state=42)\n",
    "\n",
    "# Standardize the features (optional but recommended for neural networks)\n",
    "scaler = StandardScaler()\n",
    "X_train_scaled = scaler.fit_transform(X_train)\n",
    "X_test_scaled = scaler.transform(X_test)\n",
    "\n",
    "# Reshape the input data for CNN (add an additional dimension for channels)\n",
    "X_train_reshaped = X_train_scaled.reshape(X_train_scaled.shape[0], X_train_scaled.shape[1], 1)\n",
    "X_test_reshaped = X_test_scaled.reshape(X_test_scaled.shape[0], X_test_scaled.shape[1], 1)\n",
    "\n",
    "# Build the CNN model\n",
    "model = Sequential([\n",
    "    Conv1D(32, kernel_size=3, activation='relu', input_shape=(X_train_reshaped.shape[1], 1)),\n",
    "    MaxPooling1D(pool_size=2),\n",
    "    Conv1D(64, kernel_size=3, activation='relu'),\n",
    "    MaxPooling1D(pool_size=2),\n",
    "    Flatten(),\n",
    "    Dense(64, activation='relu'),\n",
    "    Dropout(0.5),  # Optional dropout layer for regularization\n",
    "    Dense(1, activation='sigmoid')  # Output layer with sigmoid activation for binary classification\n",
    "])\n",
    "\n",
    "# Compile the model\n",
    "model.compile(optimizer=Adam(learning_rate=0.001),\n",
    "              loss='binary_crossentropy',\n",
    "              metrics=['accuracy'])\n",
    "\n",
    "# Define early stopping to prevent overfitting\n",
    "early_stopping = EarlyStopping(monitor='val_loss', patience=5, restore_best_weights=True)\n",
    "\n",
    "# Train the model\n",
    "history = model.fit(X_train_reshaped, y_train, epochs=50, batch_size=32, validation_split=0.2, callbacks=[early_stopping])\n",
    "\n",
    "# Evaluate the model on the testing data\n",
    "loss, accuracy = model.evaluate(X_test_reshaped, y_test)\n",
    "print(\"Test Loss:\", loss)\n",
    "print(\"Test Accuracy:\", accuracy)\n",
    "\n"
   ]
  },
  {
   "cell_type": "code",
   "execution_count": 63,
   "metadata": {
    "colab": {
     "base_uri": "https://localhost:8080/"
    },
    "id": "8mxELHWywgUj",
    "outputId": "cc9a4dc9-c286-400c-acf6-29510fcbe260"
   },
   "outputs": [
    {
     "name": "stdout",
     "output_type": "stream",
     "text": [
      "\u001b[1m10/10\u001b[0m \u001b[32m━━━━━━━━━━━━━━━━━━━━\u001b[0m\u001b[37m\u001b[0m \u001b[1m0s\u001b[0m 16ms/step\n",
      "Accuracy: 0.7218543046357616\n",
      "Precision: 0.6988636363636364\n",
      "Recall: 0.7987012987012987\n",
      "F1-score: 0.7454545454545456\n",
      "ROC-AUC: 0.7202965952965953\n",
      "Confusion Matrix:\n",
      " [[ 95  53]\n",
      " [ 31 123]]\n"
     ]
    }
   ],
   "source": [
    "from sklearn.metrics import accuracy_score, precision_score, recall_score, f1_score, roc_auc_score, confusion_matrix\n",
    "import matplotlib.pyplot as plt\n",
    "import seaborn as sns\n",
    "\n",
    "# Predict probabilities on the test set\n",
    "y_pred_prob = model.predict(X_test_reshaped)\n",
    "\n",
    "# Binarize predictions based on a threshold of 0.5\n",
    "y_pred = (y_pred_prob > 0.5).astype(int)\n",
    "\n",
    "# Flatten y_pred to make it compatible with y_test\n",
    "y_pred = y_pred.flatten()\n",
    "\n",
    "# Accuracy\n",
    "accuracy = accuracy_score(y_test, y_pred)\n",
    "print(\"Accuracy:\", accuracy)\n",
    "\n",
    "# Precision\n",
    "precision = precision_score(y_test, y_pred)\n",
    "print(\"Precision:\", precision)\n",
    "\n",
    "# Recall (Sensitivity)\n",
    "recall = recall_score(y_test, y_pred)\n",
    "print(\"Recall:\", recall)\n",
    "\n",
    "# F1-score\n",
    "f1 = f1_score(y_test, y_pred)\n",
    "print(\"F1-score:\", f1)\n",
    "\n",
    "# ROC-AUC\n",
    "roc_auc = roc_auc_score(y_test, y_pred)\n",
    "print(\"ROC-AUC:\", roc_auc)\n",
    "\n",
    "# Confusion Matrix\n",
    "conf_matrix = confusion_matrix(y_test, y_pred)\n",
    "print(\"Confusion Matrix:\\n\", conf_matrix)\n",
    "\n",
    "\n"
   ]
  },
  {
   "cell_type": "code",
   "execution_count": 64,
   "metadata": {
    "colab": {
     "base_uri": "https://localhost:8080/",
     "height": 410
    },
    "id": "PxLUuj3sgxQq",
    "outputId": "947757df-d0e6-4042-fdf0-98310fd06d1f"
   },
   "outputs": [
    {
     "data": {
      "image/png": "[encoded data removed]",
      "text/plain": [
       "<Figure size 600x400 with 2 Axes>"
      ]
     },
     "metadata": {},
     "output_type": "display_data"
    }
   ],
   "source": [
    "# Plot Confusion Matrix\n",
    "plt.figure(figsize=(6, 4))\n",
    "sns.heatmap(conf_matrix, annot=True, fmt='d', cmap='Blues', xticklabels=['Not Fraud', 'Fraud'], yticklabels=['Not Fraud', 'Fraud'])\n",
    "plt.xlabel('Predicted')\n",
    "plt.ylabel('Actual')\n",
    "plt.title('Confusion Matrix')\n",
    "plt.show()"
   ]
  }
 ],
 "metadata": {
  "colab": {
   "provenance": []
  },
  "kernelspec": {
   "display_name": "Python 3 (ipykernel)",
   "language": "python",
   "name": "python3"
  },
  "language_info": {
   "codemirror_mode": {
    "name": "ipython",
    "version": 3
   },
   "file_extension": ".py",
   "mimetype": "text/x-python",
   "name": "python",
   "nbconvert_exporter": "python",
   "pygments_lexer": "ipython3",
   "version": "3.10.12"
  }
 },
 "nbformat": 4,
 "nbformat_minor": 1
}

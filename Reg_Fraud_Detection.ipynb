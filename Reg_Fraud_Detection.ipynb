{
  "nbformat": 4,
  "nbformat_minor": 0,
  "metadata": {
    "colab": {
      "provenance": []
    },
    "kernelspec": {
      "name": "python3",
      "display_name": "Python 3"
    },
    "language_info": {
      "name": "python"
    }
  },
  "cells": [
    {
      "cell_type": "code",
      "execution_count": null,
      "metadata": {
        "id": "__YLU7R72VRf"
      },
      "outputs": [],
      "source": [
        "from google.colab import files"
      ]
    },
    {
      "cell_type": "code",
      "source": [
        "import pandas as pd"
      ],
      "metadata": {
        "id": "SfAJV8PI2hTn"
      },
      "execution_count": null,
      "outputs": []
    },
    {
      "cell_type": "code",
      "source": [
        "from google.colab import drive\n",
        "drive.mount('/content/drive')"
      ],
      "metadata": {
        "colab": {
          "base_uri": "https://localhost:8080/"
        },
        "id": "hLwW1zeKn-7q",
        "outputId": "674e3bf9-b426-4e29-c62a-8b524a3d7908"
      },
      "execution_count": null,
      "outputs": [
        {
          "output_type": "stream",
          "name": "stdout",
          "text": [
            "Mounted at /content/drive\n"
          ]
        }
      ]
    },
    {
      "cell_type": "code",
      "source": [
        "df = pd.read_excel (\"/content/drive/MyDrive/MLAssignment/Insurance_Updated.xlsx\")"
      ],
      "metadata": {
        "id": "Bl9JmhYg2mfQ"
      },
      "execution_count": null,
      "outputs": []
    },
    {
      "cell_type": "markdown",
      "source": [
        "**Summarize Data**"
      ],
      "metadata": {
        "id": "2HVEacjun6M-"
      }
    },
    {
      "cell_type": "code",
      "source": [
        "df.info()"
      ],
      "metadata": {
        "id": "Oy5zwVq13CRZ",
        "colab": {
          "base_uri": "https://localhost:8080/"
        },
        "outputId": "a9a51bbf-0e77-44aa-a11f-aa1f6449c35e"
      },
      "execution_count": null,
      "outputs": [
        {
          "output_type": "stream",
          "name": "stdout",
          "text": [
            "<class 'pandas.core.frame.DataFrame'>\n",
            "RangeIndex: 1000 entries, 0 to 999\n",
            "Data columns (total 40 columns):\n",
            " #   Column                       Non-Null Count  Dtype  \n",
            "---  ------                       --------------  -----  \n",
            " 0   months_as_customer           1000 non-null   int64  \n",
            " 1   age                          1000 non-null   int64  \n",
            " 2   policy_number                1000 non-null   int64  \n",
            " 3   policy_bind_days             1000 non-null   int64  \n",
            " 4   policy_state                 1000 non-null   object \n",
            " 5   policy_csl                   1000 non-null   object \n",
            " 6   policy_deductable            1000 non-null   int64  \n",
            " 7   policy_annual_premium        1000 non-null   float64\n",
            " 8   umbrella_limit               1000 non-null   int64  \n",
            " 9   insured_zip                  1000 non-null   int64  \n",
            " 10  insured_sex                  1000 non-null   object \n",
            " 11  insured_education_level      1000 non-null   object \n",
            " 12  insured_occupation           1000 non-null   object \n",
            " 13  insured_hobbies              1000 non-null   object \n",
            " 14  insured_relationship         1000 non-null   object \n",
            " 15  capital-gains                1000 non-null   int64  \n",
            " 16  capital-loss                 1000 non-null   int64  \n",
            " 17  incident_days                1000 non-null   int64  \n",
            " 18  incident_type                1000 non-null   object \n",
            " 19  collision_type               1000 non-null   object \n",
            " 20  incident_severity            1000 non-null   object \n",
            " 21  authorities_contacted        909 non-null    object \n",
            " 22  incident_state               1000 non-null   object \n",
            " 23  incident_city                1000 non-null   object \n",
            " 24  incident_location            1000 non-null   object \n",
            " 25  incident_hour_of_the_day     1000 non-null   int64  \n",
            " 26  number_of_vehicles_involved  1000 non-null   int64  \n",
            " 27  property_damage              1000 non-null   object \n",
            " 28  bodily_injuries              1000 non-null   int64  \n",
            " 29  witnesses                    1000 non-null   int64  \n",
            " 30  police_report_available      1000 non-null   object \n",
            " 31  total_claim_amount           1000 non-null   int64  \n",
            " 32  injury_claim                 1000 non-null   int64  \n",
            " 33  property_claim               1000 non-null   int64  \n",
            " 34  vehicle_claim                1000 non-null   int64  \n",
            " 35  auto_make                    1000 non-null   object \n",
            " 36  auto_model                   1000 non-null   object \n",
            " 37  auto_year                    1000 non-null   int64  \n",
            " 38  fraud_reported               1000 non-null   object \n",
            " 39  _c39                         0 non-null      float64\n",
            "dtypes: float64(2), int64(19), object(19)\n",
            "memory usage: 312.6+ KB\n"
          ]
        }
      ]
    },
    {
      "cell_type": "code",
      "source": [
        "# List of features to drop\n",
        "features_to_drop = [\n",
        "    'policy_state',\n",
        "    'policy_csl',\n",
        "    'insured_sex',\n",
        "    'insured_education_level',\n",
        "    'insured_occupation',\n",
        "    'insured_hobbies',\n",
        "    'insured_relationship',\n",
        "    'incident_type',\n",
        "    'collision_type',\n",
        "    'incident_severity',\n",
        "    'authorities_contacted',\n",
        "    'incident_state',\n",
        "    'incident_city',\n",
        "    'incident_location',\n",
        "    'property_damage',\n",
        "    'police_report_available',\n",
        "    'auto_make',\n",
        "    'auto_model',\n",
        "    '_c39'\n",
        "]\n",
        "\n",
        "# Drop the specified features from the dataframe\n",
        "df.drop(columns=features_to_drop, inplace=True)\n",
        "\n",
        "# Now df contains the dataset with the specified features dropped"
      ],
      "metadata": {
        "id": "caeDlWEX8jHH"
      },
      "execution_count": null,
      "outputs": []
    },
    {
      "cell_type": "code",
      "source": [
        "# Encoding fraud_reported(dependent variable column)\n",
        "from sklearn import preprocessing\n",
        "le = preprocessing.LabelEncoder()\n",
        "le.fit(df.fraud_reported)\n",
        "df['fraud_reported'] = le.transform(df.fraud_reported)"
      ],
      "metadata": {
        "id": "BW1xoZEEA34D"
      },
      "execution_count": null,
      "outputs": []
    },
    {
      "cell_type": "code",
      "source": [
        "# import pandas as pd\n",
        "# from sklearn.model_selection import train_test_split\n",
        "# from sklearn.ensemble import RandomForestClassifier\n",
        "\n",
        "\n",
        "# # Selecting features and target from the DataFrame\n",
        "# selected_features = ['months_as_customer', 'age', 'policy_number', 'policy_bind_days',\n",
        "#                      'policy_deductable', 'policy_annual_premium', 'umbrella_limit',\n",
        "#                      'insured_zip', 'capital-gains', 'capital-loss', 'incident_days',\n",
        "#                      'incident_hour_of_the_day', 'number_of_vehicles_involved',\n",
        "#                      'total_claim_amount', 'injury_claim', 'property_claim', 'vehicle_claim',\n",
        "#                      'auto_year', 'fraud_reported']  # Remaining variables\n",
        "\n",
        "# X = df[selected_features]\n",
        "# y = df['fraud_reported']  # Assuming 'fraud_reported' is the target column\n",
        "\n",
        "# # Splitting the data into training and testing sets\n",
        "# X_train, X_test, y_train, y_test = train_test_split(X, y,  random_state=42)\n",
        "\n",
        "# # Fitting a random forest classifier\n",
        "# forest = RandomForestClassifier(random_state=0)\n",
        "# forest.fit(X_train, y_train)\n",
        "\n",
        "# # Computing feature importances\n",
        "# feature_importances = pd.Series(forest.feature_importances_, index=X.columns)\n",
        "\n",
        "# # Sorting feature importances in descending order\n",
        "# feature_importances_sorted = feature_importances.sort_values(ascending=False)\n",
        "\n",
        "# # Printing feature importances\n",
        "# print(\"Feature importances:\")\n",
        "# print(feature_importances_sorted)\n"
      ],
      "metadata": {
        "id": "HygcT7_lXwp4"
      },
      "execution_count": null,
      "outputs": []
    },
    {
      "cell_type": "code",
      "source": [
        "# List of features to drop based as they have less feature importance\n",
        "features_to_drop = ['umbrella_limit', 'number_of_vehicles_involved', 'policy_deductable']\n",
        "\n",
        "# Drop specified features from the DataFrame\n",
        "df.drop(columns=features_to_drop, inplace=True)"
      ],
      "metadata": {
        "id": "G0TCbVFRVnAr"
      },
      "execution_count": null,
      "outputs": []
    },
    {
      "cell_type": "code",
      "source": [
        "df.info()"
      ],
      "metadata": {
        "id": "xSIR4sfp3SBo",
        "colab": {
          "base_uri": "https://localhost:8080/"
        },
        "outputId": "8f5ff809-552c-4d05-8fc6-8d83a686707a"
      },
      "execution_count": null,
      "outputs": [
        {
          "output_type": "stream",
          "name": "stdout",
          "text": [
            "<class 'pandas.core.frame.DataFrame'>\n",
            "RangeIndex: 1000 entries, 0 to 999\n",
            "Data columns (total 18 columns):\n",
            " #   Column                    Non-Null Count  Dtype  \n",
            "---  ------                    --------------  -----  \n",
            " 0   months_as_customer        1000 non-null   int64  \n",
            " 1   age                       1000 non-null   int64  \n",
            " 2   policy_number             1000 non-null   int64  \n",
            " 3   policy_bind_days          1000 non-null   int64  \n",
            " 4   policy_annual_premium     1000 non-null   float64\n",
            " 5   insured_zip               1000 non-null   int64  \n",
            " 6   capital-gains             1000 non-null   int64  \n",
            " 7   capital-loss              1000 non-null   int64  \n",
            " 8   incident_days             1000 non-null   int64  \n",
            " 9   incident_hour_of_the_day  1000 non-null   int64  \n",
            " 10  bodily_injuries           1000 non-null   int64  \n",
            " 11  witnesses                 1000 non-null   int64  \n",
            " 12  total_claim_amount        1000 non-null   int64  \n",
            " 13  injury_claim              1000 non-null   int64  \n",
            " 14  property_claim            1000 non-null   int64  \n",
            " 15  vehicle_claim             1000 non-null   int64  \n",
            " 16  auto_year                 1000 non-null   int64  \n",
            " 17  fraud_reported            1000 non-null   int64  \n",
            "dtypes: float64(1), int64(17)\n",
            "memory usage: 140.8 KB\n"
          ]
        }
      ]
    },
    {
      "cell_type": "code",
      "source": [
        "from scipy import stats\n",
        "\n",
        "# Assume df is your DataFrame\n",
        "\n",
        "# Calculate Z-score for each data point\n",
        "z_scores = stats.zscore(df)\n",
        "\n",
        "# Define threshold for outliers\n",
        "threshold = 3  # Can be adjusted based on the level of sensitivity desired\n",
        "\n",
        "# Find outliers\n",
        "outliers = df[(z_scores > threshold).any(axis=1)]\n"
      ],
      "metadata": {
        "id": "T8wlLYRLe2qd"
      },
      "execution_count": null,
      "outputs": []
    },
    {
      "cell_type": "code",
      "source": [
        "print(\"Outliers detected using Z-score method:\")\n",
        "print(outliers)\n"
      ],
      "metadata": {
        "id": "OTS7ONpZgxlS",
        "colab": {
          "base_uri": "https://localhost:8080/"
        },
        "outputId": "3c50d947-2eb4-40c1-9227-1367a8c57cca"
      },
      "execution_count": null,
      "outputs": [
        {
          "output_type": "stream",
          "name": "stdout",
          "text": [
            "Outliers detected using Z-score method:\n",
            "     months_as_customer  age  policy_number  policy_bind_days  \\\n",
            "229                 154   37         241562              5185   \n",
            "500                   1   29         357949              6530   \n",
            "\n",
            "     policy_annual_premium  insured_zip  capital-gains  capital-loss  \\\n",
            "229                2047.59       439269              0        -67800   \n",
            "500                 854.58       612826          52200             0   \n",
            "\n",
            "     incident_days  incident_hour_of_the_day  bodily_injuries  witnesses  \\\n",
            "229           3378                         2                0          3   \n",
            "500           3386                        15                2          3   \n",
            "\n",
            "     total_claim_amount  injury_claim  property_claim  vehicle_claim  \\\n",
            "229               79530         14460            7230          57840   \n",
            "500               86790          7890           23670          55230   \n",
            "\n",
            "     auto_year  fraud_reported  \n",
            "229       2000               0  \n",
            "500       2003               0  \n"
          ]
        }
      ]
    },
    {
      "cell_type": "code",
      "source": [
        "df = df[(z_scores <= threshold).all(axis=1)]\n",
        "#remove outliers"
      ],
      "metadata": {
        "id": "R7x5hfqZicjd"
      },
      "execution_count": null,
      "outputs": []
    },
    {
      "cell_type": "code",
      "source": [
        "from sklearn.utils import resample\n",
        "\n",
        "# Separate majority and minority classes\n",
        "df_majority = df[df.fraud_reported == 0]\n",
        "df_minority = df[df.fraud_reported == 1]\n",
        "\n",
        "# Upsample minority class\n",
        "df_minority_upsampled = resample(df_minority,\n",
        "                                 replace=True,     # sample with replacement\n",
        "                                 n_samples=len(df_majority),    # to match majority class\n",
        "                                 random_state=1234) # for reproducible results\n",
        "\n",
        "# Combine majority class with upsampled minority class\n",
        "df_upsampled = pd.concat([df_majority, df_minority_upsampled])\n",
        "\n",
        "# Display new class counts\n",
        "df_upsampled.fraud_reported.value_counts()\n",
        "df = df_upsampled"
      ],
      "metadata": {
        "id": "IxlBWvDwjST-"
      },
      "execution_count": null,
      "outputs": []
    },
    {
      "cell_type": "code",
      "source": [
        "#df after removing outliers\n",
        "df.info()"
      ],
      "metadata": {
        "colab": {
          "base_uri": "https://localhost:8080/"
        },
        "id": "XKGqYQ4XFgRc",
        "outputId": "7faa9950-aedd-4c2a-a113-a9d425dd3827"
      },
      "execution_count": null,
      "outputs": [
        {
          "output_type": "stream",
          "name": "stdout",
          "text": [
            "<class 'pandas.core.frame.DataFrame'>\n",
            "Index: 1502 entries, 2 to 135\n",
            "Data columns (total 18 columns):\n",
            " #   Column                    Non-Null Count  Dtype  \n",
            "---  ------                    --------------  -----  \n",
            " 0   months_as_customer        1502 non-null   int64  \n",
            " 1   age                       1502 non-null   int64  \n",
            " 2   policy_number             1502 non-null   int64  \n",
            " 3   policy_bind_days          1502 non-null   int64  \n",
            " 4   policy_annual_premium     1502 non-null   float64\n",
            " 5   insured_zip               1502 non-null   int64  \n",
            " 6   capital-gains             1502 non-null   int64  \n",
            " 7   capital-loss              1502 non-null   int64  \n",
            " 8   incident_days             1502 non-null   int64  \n",
            " 9   incident_hour_of_the_day  1502 non-null   int64  \n",
            " 10  bodily_injuries           1502 non-null   int64  \n",
            " 11  witnesses                 1502 non-null   int64  \n",
            " 12  total_claim_amount        1502 non-null   int64  \n",
            " 13  injury_claim              1502 non-null   int64  \n",
            " 14  property_claim            1502 non-null   int64  \n",
            " 15  vehicle_claim             1502 non-null   int64  \n",
            " 16  auto_year                 1502 non-null   int64  \n",
            " 17  fraud_reported            1502 non-null   int64  \n",
            "dtypes: float64(1), int64(17)\n",
            "memory usage: 223.0 KB\n"
          ]
        }
      ]
    },
    {
      "cell_type": "markdown",
      "source": [
        "**Logistic Regression**"
      ],
      "metadata": {
        "id": "ZER4WYlqImMt"
      }
    },
    {
      "cell_type": "code",
      "source": [
        "# import pandas as pd\n",
        "# import numpy as np\n",
        "#from sklearn.linear_model import LinearRegression\n",
        "from sklearn.linear_model import LogisticRegression\n",
        "from sklearn.model_selection import train_test_split\n",
        "from sklearn.metrics import r2_score, mean_squared_error, mean_absolute_error\n",
        "import seaborn as sns\n",
        "import matplotlib.pyplot as plt\n",
        "from math import sqrt"
      ],
      "metadata": {
        "id": "J_umatthFzlp"
      },
      "execution_count": null,
      "outputs": []
    },
    {
      "cell_type": "code",
      "source": [
        "# X_train, X_test, y_train, y_test = train_test_split(df.drop('OBE', axis=1), df['OBE'], test_size=0.3)"
      ],
      "metadata": {
        "id": "u88P9fpHIxYz"
      },
      "execution_count": null,
      "outputs": []
    },
    {
      "cell_type": "code",
      "source": [
        "X=df.iloc[:,0:17]\n",
        "y=df.iloc[:,17]"
      ],
      "metadata": {
        "id": "fjiXq-gJIxyz"
      },
      "execution_count": null,
      "outputs": []
    },
    {
      "cell_type": "code",
      "source": [
        "X.info()"
      ],
      "metadata": {
        "colab": {
          "base_uri": "https://localhost:8080/"
        },
        "id": "hsO5nqeIIyK4",
        "outputId": "ac0c67ec-dadb-49d7-be42-f799f0def42e"
      },
      "execution_count": null,
      "outputs": [
        {
          "output_type": "stream",
          "name": "stdout",
          "text": [
            "<class 'pandas.core.frame.DataFrame'>\n",
            "Index: 1502 entries, 2 to 135\n",
            "Data columns (total 17 columns):\n",
            " #   Column                    Non-Null Count  Dtype  \n",
            "---  ------                    --------------  -----  \n",
            " 0   months_as_customer        1502 non-null   int64  \n",
            " 1   age                       1502 non-null   int64  \n",
            " 2   policy_number             1502 non-null   int64  \n",
            " 3   policy_bind_days          1502 non-null   int64  \n",
            " 4   policy_annual_premium     1502 non-null   float64\n",
            " 5   insured_zip               1502 non-null   int64  \n",
            " 6   capital-gains             1502 non-null   int64  \n",
            " 7   capital-loss              1502 non-null   int64  \n",
            " 8   incident_days             1502 non-null   int64  \n",
            " 9   incident_hour_of_the_day  1502 non-null   int64  \n",
            " 10  bodily_injuries           1502 non-null   int64  \n",
            " 11  witnesses                 1502 non-null   int64  \n",
            " 12  total_claim_amount        1502 non-null   int64  \n",
            " 13  injury_claim              1502 non-null   int64  \n",
            " 14  property_claim            1502 non-null   int64  \n",
            " 15  vehicle_claim             1502 non-null   int64  \n",
            " 16  auto_year                 1502 non-null   int64  \n",
            "dtypes: float64(1), int64(16)\n",
            "memory usage: 211.2 KB\n"
          ]
        }
      ]
    },
    {
      "cell_type": "code",
      "source": [
        "X_train,X_test,y_train,y_test=train_test_split(X,y,test_size=0.3)"
      ],
      "metadata": {
        "id": "jrjszIvBJXWC"
      },
      "execution_count": null,
      "outputs": []
    },
    {
      "cell_type": "code",
      "source": [
        "from sklearn.linear_model import LogisticRegression\n",
        "lg=LogisticRegression()"
      ],
      "metadata": {
        "id": "-W19ftmcJ6bi"
      },
      "execution_count": null,
      "outputs": []
    },
    {
      "cell_type": "code",
      "source": [
        "lg.fit(X_train,y_train)"
      ],
      "metadata": {
        "colab": {
          "base_uri": "https://localhost:8080/",
          "height": 220
        },
        "id": "3xyy0N5YJ_A_",
        "outputId": "f7c96fc3-56e3-4d61-e0c4-01104ed6d478"
      },
      "execution_count": null,
      "outputs": [
        {
          "output_type": "stream",
          "name": "stderr",
          "text": [
            "/usr/local/lib/python3.10/dist-packages/sklearn/linear_model/_logistic.py:460: ConvergenceWarning: lbfgs failed to converge (status=1):\n",
            "STOP: TOTAL NO. of ITERATIONS REACHED LIMIT.\n",
            "\n",
            "Increase the number of iterations (max_iter) or scale the data as shown in:\n",
            "    https://scikit-learn.org/stable/modules/preprocessing.html\n",
            "Please also refer to the documentation for alternative solver options:\n",
            "    https://scikit-learn.org/stable/modules/linear_model.html#logistic-regression\n",
            "  n_iter_i = _check_optimize_result(\n"
          ]
        },
        {
          "output_type": "execute_result",
          "data": {
            "text/plain": [
              "LogisticRegression()"
            ],
            "text/html": [
              "<style>#sk-container-id-1 {color: black;}#sk-container-id-1 pre{padding: 0;}#sk-container-id-1 div.sk-toggleable {background-color: white;}#sk-container-id-1 label.sk-toggleable__label {cursor: pointer;display: block;width: 100%;margin-bottom: 0;padding: 0.3em;box-sizing: border-box;text-align: center;}#sk-container-id-1 label.sk-toggleable__label-arrow:before {content: \"▸\";float: left;margin-right: 0.25em;color: #696969;}#sk-container-id-1 label.sk-toggleable__label-arrow:hover:before {color: black;}#sk-container-id-1 div.sk-estimator:hover label.sk-toggleable__label-arrow:before {color: black;}#sk-container-id-1 div.sk-toggleable__content {max-height: 0;max-width: 0;overflow: hidden;text-align: left;background-color: #f0f8ff;}#sk-container-id-1 div.sk-toggleable__content pre {margin: 0.2em;color: black;border-radius: 0.25em;background-color: #f0f8ff;}#sk-container-id-1 input.sk-toggleable__control:checked~div.sk-toggleable__content {max-height: 200px;max-width: 100%;overflow: auto;}#sk-container-id-1 input.sk-toggleable__control:checked~label.sk-toggleable__label-arrow:before {content: \"▾\";}#sk-container-id-1 div.sk-estimator input.sk-toggleable__control:checked~label.sk-toggleable__label {background-color: #d4ebff;}#sk-container-id-1 div.sk-label input.sk-toggleable__control:checked~label.sk-toggleable__label {background-color: #d4ebff;}#sk-container-id-1 input.sk-hidden--visually {border: 0;clip: rect(1px 1px 1px 1px);clip: rect(1px, 1px, 1px, 1px);height: 1px;margin: -1px;overflow: hidden;padding: 0;position: absolute;width: 1px;}#sk-container-id-1 div.sk-estimator {font-family: monospace;background-color: #f0f8ff;border: 1px dotted black;border-radius: 0.25em;box-sizing: border-box;margin-bottom: 0.5em;}#sk-container-id-1 div.sk-estimator:hover {background-color: #d4ebff;}#sk-container-id-1 div.sk-parallel-item::after {content: \"\";width: 100%;border-bottom: 1px solid gray;flex-grow: 1;}#sk-container-id-1 div.sk-label:hover label.sk-toggleable__label {background-color: #d4ebff;}#sk-container-id-1 div.sk-serial::before {content: \"\";position: absolute;border-left: 1px solid gray;box-sizing: border-box;top: 0;bottom: 0;left: 50%;z-index: 0;}#sk-container-id-1 div.sk-serial {display: flex;flex-direction: column;align-items: center;background-color: white;padding-right: 0.2em;padding-left: 0.2em;position: relative;}#sk-container-id-1 div.sk-item {position: relative;z-index: 1;}#sk-container-id-1 div.sk-parallel {display: flex;align-items: stretch;justify-content: center;background-color: white;position: relative;}#sk-container-id-1 div.sk-item::before, #sk-container-id-1 div.sk-parallel-item::before {content: \"\";position: absolute;border-left: 1px solid gray;box-sizing: border-box;top: 0;bottom: 0;left: 50%;z-index: -1;}#sk-container-id-1 div.sk-parallel-item {display: flex;flex-direction: column;z-index: 1;position: relative;background-color: white;}#sk-container-id-1 div.sk-parallel-item:first-child::after {align-self: flex-end;width: 50%;}#sk-container-id-1 div.sk-parallel-item:last-child::after {align-self: flex-start;width: 50%;}#sk-container-id-1 div.sk-parallel-item:only-child::after {width: 0;}#sk-container-id-1 div.sk-dashed-wrapped {border: 1px dashed gray;margin: 0 0.4em 0.5em 0.4em;box-sizing: border-box;padding-bottom: 0.4em;background-color: white;}#sk-container-id-1 div.sk-label label {font-family: monospace;font-weight: bold;display: inline-block;line-height: 1.2em;}#sk-container-id-1 div.sk-label-container {text-align: center;}#sk-container-id-1 div.sk-container {/* jupyter's `normalize.less` sets `[hidden] { display: none; }` but bootstrap.min.css set `[hidden] { display: none !important; }` so we also need the `!important` here to be able to override the default hidden behavior on the sphinx rendered scikit-learn.org. See: https://github.com/scikit-learn/scikit-learn/issues/21755 */display: inline-block !important;position: relative;}#sk-container-id-1 div.sk-text-repr-fallback {display: none;}</style><div id=\"sk-container-id-1\" class=\"sk-top-container\"><div class=\"sk-text-repr-fallback\"><pre>LogisticRegression()</pre><b>In a Jupyter environment, please rerun this cell to show the HTML representation or trust the notebook. <br />On GitHub, the HTML representation is unable to render, please try loading this page with nbviewer.org.</b></div><div class=\"sk-container\" hidden><div class=\"sk-item\"><div class=\"sk-estimator sk-toggleable\"><input class=\"sk-toggleable__control sk-hidden--visually\" id=\"sk-estimator-id-1\" type=\"checkbox\" checked><label for=\"sk-estimator-id-1\" class=\"sk-toggleable__label sk-toggleable__label-arrow\">LogisticRegression</label><div class=\"sk-toggleable__content\"><pre>LogisticRegression()</pre></div></div></div></div></div>"
            ]
          },
          "metadata": {},
          "execution_count": 22
        }
      ]
    },
    {
      "cell_type": "code",
      "source": [
        "y_pred=lg.predict(X_test)"
      ],
      "metadata": {
        "id": "J9oW-0qhKX36"
      },
      "execution_count": null,
      "outputs": []
    },
    {
      "cell_type": "code",
      "source": [
        "y_pred"
      ],
      "metadata": {
        "colab": {
          "base_uri": "https://localhost:8080/"
        },
        "outputId": "bda476f1-b806-4f6a-b94d-fa72ae178222",
        "id": "_Pft4H2aKX4Q"
      },
      "execution_count": null,
      "outputs": [
        {
          "output_type": "execute_result",
          "data": {
            "text/plain": [
              "array([0, 1, 1, 1, 1, 1, 1, 0, 1, 1, 0, 1, 1, 1, 1, 0, 1, 1, 0, 0, 1, 0,\n",
              "       1, 0, 1, 0, 0, 0, 0, 1, 0, 1, 1, 0, 1, 1, 0, 0, 1, 0, 1, 1, 1, 0,\n",
              "       1, 1, 1, 1, 1, 0, 0, 0, 1, 0, 1, 1, 1, 1, 0, 0, 0, 0, 0, 1, 1, 0,\n",
              "       1, 1, 1, 0, 1, 0, 1, 0, 0, 1, 1, 1, 1, 1, 0, 1, 0, 0, 1, 1, 0, 0,\n",
              "       0, 0, 1, 0, 0, 1, 1, 0, 0, 1, 0, 0, 0, 1, 1, 0, 1, 1, 1, 1, 0, 1,\n",
              "       1, 0, 1, 1, 1, 0, 1, 0, 0, 1, 0, 0, 1, 1, 1, 0, 1, 0, 1, 1, 0, 1,\n",
              "       0, 0, 1, 1, 1, 1, 1, 1, 1, 1, 1, 1, 1, 0, 1, 0, 1, 1, 1, 1, 1, 0,\n",
              "       1, 0, 1, 1, 1, 1, 1, 1, 1, 1, 0, 1, 1, 1, 0, 1, 0, 1, 1, 1, 1, 0,\n",
              "       1, 0, 1, 1, 1, 0, 0, 1, 1, 1, 1, 1, 1, 1, 1, 0, 1, 0, 0, 0, 0, 1,\n",
              "       0, 1, 1, 0, 0, 0, 0, 0, 1, 0, 1, 0, 1, 0, 0, 1, 1, 1, 0, 0, 1, 0,\n",
              "       1, 0, 0, 0, 1, 1, 1, 1, 1, 0, 0, 1, 0, 1, 1, 1, 1, 1, 0, 1, 1, 1,\n",
              "       1, 1, 1, 1, 0, 1, 1, 0, 1, 1, 0, 0, 0, 0, 0, 1, 1, 1, 1, 1, 1, 1,\n",
              "       0, 0, 1, 1, 0, 1, 1, 1, 0, 1, 1, 1, 0, 1, 0, 0, 1, 1, 1, 0, 1, 1,\n",
              "       1, 1, 0, 1, 1, 1, 0, 1, 1, 1, 0, 1, 1, 1, 1, 1, 1, 0, 1, 1, 0, 1,\n",
              "       1, 1, 1, 1, 0, 1, 1, 1, 1, 1, 1, 0, 0, 1, 0, 0, 0, 1, 0, 1, 1, 1,\n",
              "       0, 0, 0, 1, 1, 1, 0, 1, 1, 0, 1, 1, 0, 0, 1, 0, 1, 1, 0, 1, 0, 1,\n",
              "       1, 1, 1, 1, 1, 0, 0, 0, 1, 1, 0, 0, 0, 0, 0, 1, 1, 0, 0, 0, 0, 0,\n",
              "       0, 0, 1, 1, 1, 1, 1, 0, 0, 0, 1, 0, 1, 1, 1, 0, 1, 0, 0, 1, 0, 0,\n",
              "       1, 1, 1, 0, 0, 0, 0, 1, 1, 1, 1, 0, 0, 0, 0, 1, 1, 0, 0, 0, 1, 1,\n",
              "       0, 0, 0, 1, 0, 0, 0, 0, 0, 1, 0, 1, 1, 0, 0, 1, 0, 1, 1, 1, 1, 1,\n",
              "       0, 1, 0, 0, 0, 0, 1, 0, 0, 1, 0])"
            ]
          },
          "metadata": {},
          "execution_count": 24
        }
      ]
    },
    {
      "cell_type": "code",
      "source": [
        "from sklearn import metrics"
      ],
      "metadata": {
        "id": "z4tpChVJKX4Q"
      },
      "execution_count": null,
      "outputs": []
    },
    {
      "cell_type": "code",
      "source": [
        "cf=metrics.confusion_matrix(y_test,y_pred)"
      ],
      "metadata": {
        "id": "DzuG3SEWKX4R"
      },
      "execution_count": null,
      "outputs": []
    },
    {
      "cell_type": "code",
      "source": [
        "cf"
      ],
      "metadata": {
        "colab": {
          "base_uri": "https://localhost:8080/"
        },
        "outputId": "5f3b2961-fbf4-49b3-9e35-9af1d95faa06",
        "id": "bZWECqLCKX4R"
      },
      "execution_count": null,
      "outputs": [
        {
          "output_type": "execute_result",
          "data": {
            "text/plain": [
              "array([[117, 110],\n",
              "       [ 70, 154]])"
            ]
          },
          "metadata": {},
          "execution_count": 27
        }
      ]
    },
    {
      "cell_type": "code",
      "source": [
        "from sklearn.metrics import accuracy_score"
      ],
      "metadata": {
        "id": "LyGerIVRLfCU"
      },
      "execution_count": null,
      "outputs": []
    },
    {
      "cell_type": "code",
      "source": [
        "accuracy_score(y_test,y_pred)"
      ],
      "metadata": {
        "id": "HQmR_oEjL41J",
        "colab": {
          "base_uri": "https://localhost:8080/"
        },
        "outputId": "65052f7e-f880-43e6-edf3-9e1e7306622b"
      },
      "execution_count": null,
      "outputs": [
        {
          "output_type": "execute_result",
          "data": {
            "text/plain": [
              "0.6008869179600886"
            ]
          },
          "metadata": {},
          "execution_count": 29
        }
      ]
    },
    {
      "cell_type": "code",
      "source": [
        "from sklearn.metrics import accuracy_score, precision_score, recall_score, f1_score, roc_auc_score\n",
        "\n",
        "# Replace y_pred with your predicted labels and y_true with the actual labels\n",
        "\n",
        "# Accuracy\n",
        "accuracy = accuracy_score(y_test, y_pred)\n",
        "print(\"Accuracy:\", accuracy)\n",
        "\n",
        "# Precision\n",
        "precision = precision_score(y_test, y_pred)\n",
        "print(\"Precision:\", precision)\n",
        "\n",
        "# Recall (Sensitivity)\n",
        "recall = recall_score(y_test, y_pred)\n",
        "print(\"Recall:\", recall)\n",
        "\n",
        "# F1-score\n",
        "f1 = f1_score(y_test, y_pred)\n",
        "print(\"F1-score:\", f1)\n",
        "\n",
        "# ROC-AUC\n",
        "roc_auc = roc_auc_score(y_test, y_pred)\n",
        "print(\"ROC-AUC:\", roc_auc)"
      ],
      "metadata": {
        "id": "8mxELHWywgUj",
        "colab": {
          "base_uri": "https://localhost:8080/"
        },
        "outputId": "848101f8-c9b2-4ed1-c7b4-d821d8615c75"
      },
      "execution_count": null,
      "outputs": [
        {
          "output_type": "stream",
          "name": "stdout",
          "text": [
            "Accuracy: 0.6008869179600886\n",
            "Precision: 0.5833333333333334\n",
            "Recall: 0.6875\n",
            "F1-score: 0.6311475409836065\n",
            "ROC-AUC: 0.6014592511013216\n"
          ]
        }
      ]
    },
    {
      "cell_type": "code",
      "source": [
        "from sklearn.metrics import confusion_matrix\n",
        "sns.heatmap(confusion_matrix(y_test, y_pred), annot=True, cmap=\"YlGnBu\")"
      ],
      "metadata": {
        "colab": {
          "base_uri": "https://localhost:8080/",
          "height": 448
        },
        "id": "JaISVQvXWC1C",
        "outputId": "4316e1a2-e761-4f1c-9789-9ad75024c420"
      },
      "execution_count": null,
      "outputs": [
        {
          "output_type": "execute_result",
          "data": {
            "text/plain": [
              "<Axes: >"
            ]
          },
          "metadata": {},
          "execution_count": 31
        },
        {
          "output_type": "display_data",
          "data": {
            "text/plain": [
              "<Figure size 640x480 with 2 Axes>"
            ],
            "image/png": "[encoded data removed]"
          },
          "metadata": {}
        }
      ]
    }
  ]
}
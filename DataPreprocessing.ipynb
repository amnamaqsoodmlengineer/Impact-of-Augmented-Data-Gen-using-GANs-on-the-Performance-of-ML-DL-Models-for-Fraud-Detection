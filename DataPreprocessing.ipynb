{
  "nbformat": 4,
  "nbformat_minor": 0,
  "metadata": {
    "colab": {
      "provenance": []
    },
    "kernelspec": {
      "name": "python3",
      "display_name": "Python 3"
    },
    "language_info": {
      "name": "python"
    }
  },
  "cells": [
    {
      "cell_type": "code",
      "execution_count": 1,
      "metadata": {
        "id": "__YLU7R72VRf"
      },
      "outputs": [],
      "source": [
        "from google.colab import files"
      ]
    },
    {
      "cell_type": "code",
      "source": [
        "import pandas as pd"
      ],
      "metadata": {
        "id": "SfAJV8PI2hTn"
      },
      "execution_count": 2,
      "outputs": []
    },
    {
      "cell_type": "code",
      "source": [
        "from google.colab import drive\n",
        "drive.mount('/content/drive')"
      ],
      "metadata": {
        "colab": {
          "base_uri": "https://localhost:8080/"
        },
        "id": "hLwW1zeKn-7q",
        "outputId": "99c2fb9a-da94-4e3c-c0cc-1fc7ddcad02f"
      },
      "execution_count": 3,
      "outputs": [
        {
          "output_type": "stream",
          "name": "stdout",
          "text": [
            "Mounted at /content/drive\n"
          ]
        }
      ]
    },
    {
      "cell_type": "code",
      "source": [
        "df = pd.read_excel (\"/content/drive/MyDrive/MLAssignment/Insurance_Updated.xlsx\")"
      ],
      "metadata": {
        "id": "Bl9JmhYg2mfQ"
      },
      "execution_count": 4,
      "outputs": []
    },
    {
      "cell_type": "markdown",
      "source": [
        "**Summarize Data**"
      ],
      "metadata": {
        "id": "2HVEacjun6M-"
      }
    },
    {
      "cell_type": "code",
      "source": [
        "df.info()"
      ],
      "metadata": {
        "id": "Oy5zwVq13CRZ",
        "colab": {
          "base_uri": "https://localhost:8080/"
        },
        "outputId": "4dd0ea6d-8510-4661-9285-d12444bdca64"
      },
      "execution_count": 5,
      "outputs": [
        {
          "output_type": "stream",
          "name": "stdout",
          "text": [
            "<class 'pandas.core.frame.DataFrame'>\n",
            "RangeIndex: 1000 entries, 0 to 999\n",
            "Data columns (total 40 columns):\n",
            " #   Column                       Non-Null Count  Dtype  \n",
            "---  ------                       --------------  -----  \n",
            " 0   months_as_customer           1000 non-null   int64  \n",
            " 1   age                          1000 non-null   int64  \n",
            " 2   policy_number                1000 non-null   int64  \n",
            " 3   policy_bind_days             1000 non-null   int64  \n",
            " 4   policy_state                 1000 non-null   object \n",
            " 5   policy_csl                   1000 non-null   object \n",
            " 6   policy_deductable            1000 non-null   int64  \n",
            " 7   policy_annual_premium        1000 non-null   float64\n",
            " 8   umbrella_limit               1000 non-null   int64  \n",
            " 9   insured_zip                  1000 non-null   int64  \n",
            " 10  insured_sex                  1000 non-null   object \n",
            " 11  insured_education_level      1000 non-null   object \n",
            " 12  insured_occupation           1000 non-null   object \n",
            " 13  insured_hobbies              1000 non-null   object \n",
            " 14  insured_relationship         1000 non-null   object \n",
            " 15  capital-gains                1000 non-null   int64  \n",
            " 16  capital-loss                 1000 non-null   int64  \n",
            " 17  incident_days                1000 non-null   int64  \n",
            " 18  incident_type                1000 non-null   object \n",
            " 19  collision_type               1000 non-null   object \n",
            " 20  incident_severity            1000 non-null   object \n",
            " 21  authorities_contacted        909 non-null    object \n",
            " 22  incident_state               1000 non-null   object \n",
            " 23  incident_city                1000 non-null   object \n",
            " 24  incident_location            1000 non-null   object \n",
            " 25  incident_hour_of_the_day     1000 non-null   int64  \n",
            " 26  number_of_vehicles_involved  1000 non-null   int64  \n",
            " 27  property_damage              1000 non-null   object \n",
            " 28  bodily_injuries              1000 non-null   int64  \n",
            " 29  witnesses                    1000 non-null   int64  \n",
            " 30  police_report_available      1000 non-null   object \n",
            " 31  total_claim_amount           1000 non-null   int64  \n",
            " 32  injury_claim                 1000 non-null   int64  \n",
            " 33  property_claim               1000 non-null   int64  \n",
            " 34  vehicle_claim                1000 non-null   int64  \n",
            " 35  auto_make                    1000 non-null   object \n",
            " 36  auto_model                   1000 non-null   object \n",
            " 37  auto_year                    1000 non-null   int64  \n",
            " 38  fraud_reported               1000 non-null   object \n",
            " 39  _c39                         0 non-null      float64\n",
            "dtypes: float64(2), int64(19), object(19)\n",
            "memory usage: 312.6+ KB\n"
          ]
        }
      ]
    },
    {
      "cell_type": "code",
      "source": [
        "# List of features to drop\n",
        "features_to_drop = [\n",
        "    'policy_state',\n",
        "    'policy_csl',\n",
        "    'insured_sex',\n",
        "    'insured_education_level',\n",
        "    'insured_occupation',\n",
        "    'insured_hobbies',\n",
        "    'insured_relationship',\n",
        "    'incident_type',\n",
        "    'collision_type',\n",
        "    'incident_severity',\n",
        "    'authorities_contacted',\n",
        "    'incident_state',\n",
        "    'incident_city',\n",
        "    'incident_location',\n",
        "    'property_damage',\n",
        "    'police_report_available',\n",
        "    'auto_make',\n",
        "    'auto_model',\n",
        "    '_c39'\n",
        "]\n",
        "\n",
        "# Drop the specified features from the dataframe\n",
        "df.drop(columns=features_to_drop, inplace=True)\n",
        "\n",
        "# Now df contains the dataset with the specified features dropped"
      ],
      "metadata": {
        "id": "caeDlWEX8jHH"
      },
      "execution_count": 6,
      "outputs": []
    },
    {
      "cell_type": "code",
      "source": [
        "# Encoding fraud_reported(dependent variable column)\n",
        "from sklearn import preprocessing\n",
        "le = preprocessing.LabelEncoder()\n",
        "le.fit(df.fraud_reported)\n",
        "df['fraud_reported'] = le.transform(df.fraud_reported)"
      ],
      "metadata": {
        "id": "BW1xoZEEA34D"
      },
      "execution_count": 7,
      "outputs": []
    },
    {
      "cell_type": "code",
      "source": [
        "import pandas as pd\n",
        "from sklearn.model_selection import train_test_split\n",
        "from sklearn.ensemble import RandomForestClassifier\n",
        "\n",
        "\n",
        "# Selecting features and target from the DataFrame\n",
        "selected_features = ['months_as_customer', 'age', 'policy_number', 'policy_bind_days',\n",
        "                     'policy_deductable', 'policy_annual_premium', 'umbrella_limit',\n",
        "                     'insured_zip', 'capital-gains', 'capital-loss', 'incident_days',\n",
        "                     'incident_hour_of_the_day', 'number_of_vehicles_involved',\n",
        "                     'total_claim_amount', 'injury_claim', 'property_claim', 'vehicle_claim',\n",
        "                     'auto_year']  # Remaining variables , 'fraud_reported'\n",
        "\n",
        "X = df[selected_features]\n",
        "y = df['fraud_reported']  # Assuming 'fraud_reported' is the target column\n",
        "\n",
        "# Splitting the data into training and testing sets\n",
        "X_train, X_test, y_train, y_test = train_test_split(X, y,  random_state=42)\n",
        "\n",
        "# Fitting a random forest classifier\n",
        "forest = RandomForestClassifier(random_state=0)\n",
        "forest.fit(X_train, y_train)\n",
        "\n",
        "# Computing feature importances\n",
        "feature_importances = pd.Series(forest.feature_importances_, index=X.columns)\n",
        "\n",
        "# Sorting feature importances in descending order\n",
        "feature_importances_sorted = feature_importances.sort_values(ascending=False)\n",
        "\n",
        "# Printing feature importances\n",
        "print(\"Feature importances:\")\n",
        "print(feature_importances_sorted)\n"
      ],
      "metadata": {
        "id": "HygcT7_lXwp4",
        "colab": {
          "base_uri": "https://localhost:8080/"
        },
        "outputId": "e8b84d6a-c201-4320-a8b1-6cff3a537f48"
      },
      "execution_count": 8,
      "outputs": [
        {
          "output_type": "stream",
          "name": "stdout",
          "text": [
            "Feature importances:\n",
            "policy_annual_premium          0.077742\n",
            "injury_claim                   0.076905\n",
            "property_claim                 0.076474\n",
            "policy_number                  0.073038\n",
            "insured_zip                    0.071361\n",
            "vehicle_claim                  0.069566\n",
            "total_claim_amount             0.067864\n",
            "months_as_customer             0.065695\n",
            "incident_days                  0.063311\n",
            "policy_bind_days               0.062369\n",
            "age                            0.054129\n",
            "incident_hour_of_the_day       0.048594\n",
            "auto_year                      0.047168\n",
            "capital-gains                  0.040213\n",
            "capital-loss                   0.040147\n",
            "umbrella_limit                 0.029765\n",
            "number_of_vehicles_involved    0.018596\n",
            "policy_deductable              0.017063\n",
            "dtype: float64\n"
          ]
        }
      ]
    },
    {
      "cell_type": "code",
      "source": [
        "# import seaborn as sns\n",
        "# import matplotlib.pyplot as plt\n",
        "# #from sklearn.ensemble\n",
        "# plt.figure(figsize=(10, 8))\n",
        "# sns.heatmap(feature_importances_sorted.set_index('Feature'), cmap='coolwarm', annot=True, fmt='.2f')\n",
        "# plt.title('Feature Importances')\n",
        "# plt.xlabel('Importance')\n",
        "# plt.ylabel('Feature')\n",
        "# plt.show()\n",
        "\n",
        "import seaborn as sns\n",
        "import matplotlib.pyplot as plt\n",
        "\n",
        "# Assuming feature_importances_sorted is already computed and sorted\n",
        "plt.figure(figsize=(10, 8))\n",
        "sns.heatmap(feature_importances_sorted.to_frame(), cmap='coolwarm', annot=True, fmt='.2f')\n",
        "plt.title('Feature Importances')\n",
        "plt.xlabel('Importance')\n",
        "plt.ylabel('Feature')\n",
        "plt.show()\n"
      ],
      "metadata": {
        "colab": {
          "base_uri": "https://localhost:8080/",
          "height": 718
        },
        "id": "X6TxIpxyLJLv",
        "outputId": "ffde1dd2-d2ad-4b75-974c-706e3041b683"
      },
      "execution_count": 9,
      "outputs": [
        {
          "output_type": "display_data",
          "data": {
            "text/plain": [
              "<Figure size 1000x800 with 2 Axes>"
            ],
            "image/png": "[encoded data removed]"
          },
          "metadata": {}
        }
      ]
    },
    {
      "cell_type": "code",
      "source": [
        "# List of features to drop based as they have less feature importance\n",
        "features_to_drop = ['umbrella_limit', 'number_of_vehicles_involved', 'policy_deductable']\n",
        "\n",
        "# Drop specified features from the DataFrame\n",
        "df.drop(columns=features_to_drop, inplace=True)"
      ],
      "metadata": {
        "id": "G0TCbVFRVnAr"
      },
      "execution_count": 10,
      "outputs": []
    },
    {
      "cell_type": "code",
      "source": [
        "df.info()"
      ],
      "metadata": {
        "id": "xSIR4sfp3SBo",
        "colab": {
          "base_uri": "https://localhost:8080/"
        },
        "outputId": "368d9bfc-c035-4d7a-a380-bd915cc8bbfa"
      },
      "execution_count": 11,
      "outputs": [
        {
          "output_type": "stream",
          "name": "stdout",
          "text": [
            "<class 'pandas.core.frame.DataFrame'>\n",
            "RangeIndex: 1000 entries, 0 to 999\n",
            "Data columns (total 18 columns):\n",
            " #   Column                    Non-Null Count  Dtype  \n",
            "---  ------                    --------------  -----  \n",
            " 0   months_as_customer        1000 non-null   int64  \n",
            " 1   age                       1000 non-null   int64  \n",
            " 2   policy_number             1000 non-null   int64  \n",
            " 3   policy_bind_days          1000 non-null   int64  \n",
            " 4   policy_annual_premium     1000 non-null   float64\n",
            " 5   insured_zip               1000 non-null   int64  \n",
            " 6   capital-gains             1000 non-null   int64  \n",
            " 7   capital-loss              1000 non-null   int64  \n",
            " 8   incident_days             1000 non-null   int64  \n",
            " 9   incident_hour_of_the_day  1000 non-null   int64  \n",
            " 10  bodily_injuries           1000 non-null   int64  \n",
            " 11  witnesses                 1000 non-null   int64  \n",
            " 12  total_claim_amount        1000 non-null   int64  \n",
            " 13  injury_claim              1000 non-null   int64  \n",
            " 14  property_claim            1000 non-null   int64  \n",
            " 15  vehicle_claim             1000 non-null   int64  \n",
            " 16  auto_year                 1000 non-null   int64  \n",
            " 17  fraud_reported            1000 non-null   int64  \n",
            "dtypes: float64(1), int64(17)\n",
            "memory usage: 140.8 KB\n"
          ]
        }
      ]
    },
    {
      "cell_type": "code",
      "source": [
        "from scipy import stats\n",
        "\n",
        "# Assume df is your DataFrame\n",
        "\n",
        "# Calculate Z-score for each data point\n",
        "z_scores = stats.zscore(df)\n",
        "\n",
        "# Define threshold for outliers\n",
        "threshold = 3  # Can be adjusted based on the level of sensitivity desired\n",
        "\n",
        "# Find outliers\n",
        "outliers = df[(z_scores > threshold).any(axis=1)]\n"
      ],
      "metadata": {
        "id": "T8wlLYRLe2qd"
      },
      "execution_count": 12,
      "outputs": []
    },
    {
      "cell_type": "code",
      "source": [
        "print(\"Outliers detected using Z-score method:\")\n",
        "print(outliers)\n"
      ],
      "metadata": {
        "id": "OTS7ONpZgxlS",
        "colab": {
          "base_uri": "https://localhost:8080/"
        },
        "outputId": "b5496365-2290-47ff-f4e2-5a2e6101111f"
      },
      "execution_count": 13,
      "outputs": [
        {
          "output_type": "stream",
          "name": "stdout",
          "text": [
            "Outliers detected using Z-score method:\n",
            "     months_as_customer  age  policy_number  policy_bind_days  \\\n",
            "229                 154   37         241562              5185   \n",
            "500                   1   29         357949              6530   \n",
            "\n",
            "     policy_annual_premium  insured_zip  capital-gains  capital-loss  \\\n",
            "229                2047.59       439269              0        -67800   \n",
            "500                 854.58       612826          52200             0   \n",
            "\n",
            "     incident_days  incident_hour_of_the_day  bodily_injuries  witnesses  \\\n",
            "229           3378                         2                0          3   \n",
            "500           3386                        15                2          3   \n",
            "\n",
            "     total_claim_amount  injury_claim  property_claim  vehicle_claim  \\\n",
            "229               79530         14460            7230          57840   \n",
            "500               86790          7890           23670          55230   \n",
            "\n",
            "     auto_year  fraud_reported  \n",
            "229       2000               0  \n",
            "500       2003               0  \n"
          ]
        }
      ]
    },
    {
      "cell_type": "code",
      "source": [
        "df = df[(z_scores <= threshold).all(axis=1)]\n",
        "#remove outliers"
      ],
      "metadata": {
        "id": "R7x5hfqZicjd"
      },
      "execution_count": 14,
      "outputs": []
    },
    {
      "cell_type": "code",
      "source": [
        "from sklearn.utils import resample\n",
        "\n",
        "# Separate majority and minority classes\n",
        "df_majority = df[df.fraud_reported == 0]\n",
        "df_minority = df[df.fraud_reported == 1]\n",
        "\n",
        "# Upsample minority class\n",
        "df_minority_upsampled = resample(df_minority,\n",
        "                                 replace=True,     # sample with replacement\n",
        "                                 n_samples=len(df_majority),    # to match majority class\n",
        "                                 random_state=1234) # for reproducible results\n",
        "\n",
        "# Combine majority class with upsampled minority class\n",
        "df_upsampled = pd.concat([df_majority, df_minority_upsampled])\n",
        "\n",
        "# Display new class counts\n",
        "df_upsampled.fraud_reported.value_counts()\n",
        "df = df_upsampled"
      ],
      "metadata": {
        "id": "IxlBWvDwjST-"
      },
      "execution_count": 15,
      "outputs": []
    },
    {
      "cell_type": "code",
      "source": [
        "#df after removing outliers\n",
        "df.info()"
      ],
      "metadata": {
        "colab": {
          "base_uri": "https://localhost:8080/"
        },
        "id": "XKGqYQ4XFgRc",
        "outputId": "30639961-c502-458b-d4f7-5a1b671ac9da"
      },
      "execution_count": 16,
      "outputs": [
        {
          "output_type": "stream",
          "name": "stdout",
          "text": [
            "<class 'pandas.core.frame.DataFrame'>\n",
            "Index: 1502 entries, 2 to 135\n",
            "Data columns (total 18 columns):\n",
            " #   Column                    Non-Null Count  Dtype  \n",
            "---  ------                    --------------  -----  \n",
            " 0   months_as_customer        1502 non-null   int64  \n",
            " 1   age                       1502 non-null   int64  \n",
            " 2   policy_number             1502 non-null   int64  \n",
            " 3   policy_bind_days          1502 non-null   int64  \n",
            " 4   policy_annual_premium     1502 non-null   float64\n",
            " 5   insured_zip               1502 non-null   int64  \n",
            " 6   capital-gains             1502 non-null   int64  \n",
            " 7   capital-loss              1502 non-null   int64  \n",
            " 8   incident_days             1502 non-null   int64  \n",
            " 9   incident_hour_of_the_day  1502 non-null   int64  \n",
            " 10  bodily_injuries           1502 non-null   int64  \n",
            " 11  witnesses                 1502 non-null   int64  \n",
            " 12  total_claim_amount        1502 non-null   int64  \n",
            " 13  injury_claim              1502 non-null   int64  \n",
            " 14  property_claim            1502 non-null   int64  \n",
            " 15  vehicle_claim             1502 non-null   int64  \n",
            " 16  auto_year                 1502 non-null   int64  \n",
            " 17  fraud_reported            1502 non-null   int64  \n",
            "dtypes: float64(1), int64(17)\n",
            "memory usage: 223.0 KB\n"
          ]
        }
      ]
    },
    {
      "cell_type": "code",
      "source": [
        "# we can see some missing values denoted by '?' so lets replace missing values with np.nan\n",
        "import numpy as np\n",
        "df.replace('?', np.nan, inplace = True)"
      ],
      "metadata": {
        "id": "hUSsJ7dmGWjy"
      },
      "execution_count": 17,
      "outputs": []
    },
    {
      "cell_type": "code",
      "source": [
        "# missing values\n",
        "df.isna().sum()"
      ],
      "metadata": {
        "colab": {
          "base_uri": "https://localhost:8080/"
        },
        "id": "7-7k6CD4Gb8e",
        "outputId": "8be26344-8e7b-4606-d034-ee62334893cc"
      },
      "execution_count": 18,
      "outputs": [
        {
          "output_type": "execute_result",
          "data": {
            "text/plain": [
              "months_as_customer          0\n",
              "age                         0\n",
              "policy_number               0\n",
              "policy_bind_days            0\n",
              "policy_annual_premium       0\n",
              "insured_zip                 0\n",
              "capital-gains               0\n",
              "capital-loss                0\n",
              "incident_days               0\n",
              "incident_hour_of_the_day    0\n",
              "bodily_injuries             0\n",
              "witnesses                   0\n",
              "total_claim_amount          0\n",
              "injury_claim                0\n",
              "property_claim              0\n",
              "vehicle_claim               0\n",
              "auto_year                   0\n",
              "fraud_reported              0\n",
              "dtype: int64"
            ]
          },
          "metadata": {},
          "execution_count": 18
        }
      ]
    },
    {
      "cell_type": "code",
      "source": [
        "# import missingno as msno\n",
        "\n",
        "# msno.bar(df)\n",
        "# plt.show()"
      ],
      "metadata": {
        "id": "ispIfsEzGcbJ"
      },
      "execution_count": 19,
      "outputs": []
    },
    {
      "cell_type": "code",
      "source": [
        "df=df.dropna()"
      ],
      "metadata": {
        "id": "kwOjxzrNGpav"
      },
      "execution_count": 20,
      "outputs": []
    },
    {
      "cell_type": "code",
      "source": [
        "df.isna().sum()"
      ],
      "metadata": {
        "colab": {
          "base_uri": "https://localhost:8080/"
        },
        "id": "rTcJE_pMGpxT",
        "outputId": "9fd54dc2-0d97-4576-f49b-d7b57f1de6e2"
      },
      "execution_count": 21,
      "outputs": [
        {
          "output_type": "execute_result",
          "data": {
            "text/plain": [
              "months_as_customer          0\n",
              "age                         0\n",
              "policy_number               0\n",
              "policy_bind_days            0\n",
              "policy_annual_premium       0\n",
              "insured_zip                 0\n",
              "capital-gains               0\n",
              "capital-loss                0\n",
              "incident_days               0\n",
              "incident_hour_of_the_day    0\n",
              "bodily_injuries             0\n",
              "witnesses                   0\n",
              "total_claim_amount          0\n",
              "injury_claim                0\n",
              "property_claim              0\n",
              "vehicle_claim               0\n",
              "auto_year                   0\n",
              "fraud_reported              0\n",
              "dtype: int64"
            ]
          },
          "metadata": {},
          "execution_count": 21
        }
      ]
    },
    {
      "cell_type": "code",
      "source": [],
      "metadata": {
        "id": "NJhM01Q3J2IQ"
      },
      "execution_count": 21,
      "outputs": []
    },
    {
      "cell_type": "code",
      "source": [
        "from scipy import stats\n",
        "import pandas as pd\n",
        "\n",
        "# Convert Timestamp columns to numeric data types or exclude them from z-score calculation\n",
        "numeric_cols = df.select_dtypes(include=[np.number]).columns\n",
        "df_numeric = df[numeric_cols]\n",
        "\n",
        "# Calculate Z-score for each data point\n",
        "z_scores = stats.zscore(df_numeric)\n",
        "\n",
        "# Define threshold for outliers\n",
        "threshold = 3  # Can be adjusted based on the level of sensitivity desired\n",
        "\n",
        "# Find outliers\n",
        "outliers = df[(z_scores > threshold).any(axis=1)]\n",
        "print(\"Outliers detected using Z-score method:\")\n",
        "print(outliers)\n",
        "\n",
        "# Remove outliers\n",
        "df = df[(z_scores <= threshold).all(axis=1)]\n"
      ],
      "metadata": {
        "id": "A_oB-mSbvJCd",
        "colab": {
          "base_uri": "https://localhost:8080/"
        },
        "outputId": "a2e53172-f8b8-4219-cf62-c0202c8d9a58"
      },
      "execution_count": 22,
      "outputs": [
        {
          "output_type": "stream",
          "name": "stdout",
          "text": [
            "Outliers detected using Z-score method:\n",
            "     months_as_customer  age  policy_number  policy_bind_days  \\\n",
            "301                 107   31         714929             10728   \n",
            "591                  43   43         528385              9650   \n",
            "591                  43   43         528385              9650   \n",
            "163                 112   30         346940              7879   \n",
            "163                 112   30         346940              7879   \n",
            "163                 112   30         346940              7879   \n",
            "591                  43   43         528385              9650   \n",
            "163                 112   30         346940              7879   \n",
            "591                  43   43         528385              9650   \n",
            "\n",
            "     policy_annual_premium  insured_zip  capital-gains  capital-loss  \\\n",
            "301                1018.73       469646          20000        -82700   \n",
            "591                1320.39       604861              0             0   \n",
            "591                1320.39       604861              0             0   \n",
            "163                1166.54       479852          47700        -59300   \n",
            "163                1166.54       479852          47700        -59300   \n",
            "163                1166.54       479852          47700        -59300   \n",
            "591                1320.39       604861              0             0   \n",
            "163                1166.54       479852          47700        -59300   \n",
            "591                1320.39       604861              0             0   \n",
            "\n",
            "     incident_days  incident_hour_of_the_day  bodily_injuries  witnesses  \\\n",
            "301           3360                        21                1          2   \n",
            "591           3368                        16                2          1   \n",
            "591           3368                        16                2          1   \n",
            "163           3366                         3                2          0   \n",
            "163           3366                         3                2          0   \n",
            "163           3366                         3                2          0   \n",
            "591           3368                        16                2          1   \n",
            "163           3366                         3                2          0   \n",
            "591           3368                        16                2          1   \n",
            "\n",
            "     total_claim_amount  injury_claim  property_claim  vehicle_claim  \\\n",
            "301               93730         14420           21630          57680   \n",
            "591               79970          7270           21810          50890   \n",
            "591               79970          7270           21810          50890   \n",
            "163              107900         10790           21580          75530   \n",
            "163              107900         10790           21580          75530   \n",
            "163              107900         10790           21580          75530   \n",
            "591               79970          7270           21810          50890   \n",
            "163              107900         10790           21580          75530   \n",
            "591               79970          7270           21810          50890   \n",
            "\n",
            "     auto_year  fraud_reported  \n",
            "301       2001               0  \n",
            "591       1996               1  \n",
            "591       1996               1  \n",
            "163       1997               1  \n",
            "163       1997               1  \n",
            "163       1997               1  \n",
            "591       1996               1  \n",
            "163       1997               1  \n",
            "591       1996               1  \n"
          ]
        }
      ]
    },
    {
      "cell_type": "code",
      "source": [
        "#Removing Class Imbalance\n",
        "from sklearn.utils import resample\n",
        "\n",
        "# Separate majority and minority classes\n",
        "df_majority = df[df.fraud_reported == 0]\n",
        "df_minority = df[df.fraud_reported == 1]\n",
        "\n",
        "# Upsample minority class\n",
        "df_minority_upsampled = resample(df_minority,\n",
        "                                 replace=True,     # sample with replacement\n",
        "                                 n_samples=len(df_majority),    # to match majority class\n",
        "                                 random_state=1234) # for reproducible results\n",
        "\n",
        "# Combine majority class with upsampled minority class\n",
        "df_upsampled = pd.concat([df_majority, df_minority_upsampled])\n",
        "\n",
        "# Display new class counts\n",
        "df_upsampled.fraud_reported.value_counts()\n",
        "df = df_upsampled"
      ],
      "metadata": {
        "id": "BVexZo3vKbdn"
      },
      "execution_count": 23,
      "outputs": []
    },
    {
      "cell_type": "code",
      "source": [
        "#Preprocessed Data Frame\n",
        "df.info()"
      ],
      "metadata": {
        "id": "hNg0inFhv_Oi",
        "colab": {
          "base_uri": "https://localhost:8080/"
        },
        "outputId": "fb031f10-d8a5-40b8-c1ef-ea7cd0d93d82"
      },
      "execution_count": 24,
      "outputs": [
        {
          "output_type": "stream",
          "name": "stdout",
          "text": [
            "<class 'pandas.core.frame.DataFrame'>\n",
            "Index: 1500 entries, 2 to 253\n",
            "Data columns (total 18 columns):\n",
            " #   Column                    Non-Null Count  Dtype  \n",
            "---  ------                    --------------  -----  \n",
            " 0   months_as_customer        1500 non-null   int64  \n",
            " 1   age                       1500 non-null   int64  \n",
            " 2   policy_number             1500 non-null   int64  \n",
            " 3   policy_bind_days          1500 non-null   int64  \n",
            " 4   policy_annual_premium     1500 non-null   float64\n",
            " 5   insured_zip               1500 non-null   int64  \n",
            " 6   capital-gains             1500 non-null   int64  \n",
            " 7   capital-loss              1500 non-null   int64  \n",
            " 8   incident_days             1500 non-null   int64  \n",
            " 9   incident_hour_of_the_day  1500 non-null   int64  \n",
            " 10  bodily_injuries           1500 non-null   int64  \n",
            " 11  witnesses                 1500 non-null   int64  \n",
            " 12  total_claim_amount        1500 non-null   int64  \n",
            " 13  injury_claim              1500 non-null   int64  \n",
            " 14  property_claim            1500 non-null   int64  \n",
            " 15  vehicle_claim             1500 non-null   int64  \n",
            " 16  auto_year                 1500 non-null   int64  \n",
            " 17  fraud_reported            1500 non-null   int64  \n",
            "dtypes: float64(1), int64(17)\n",
            "memory usage: 222.7 KB\n"
          ]
        }
      ]
    }
  ]
}